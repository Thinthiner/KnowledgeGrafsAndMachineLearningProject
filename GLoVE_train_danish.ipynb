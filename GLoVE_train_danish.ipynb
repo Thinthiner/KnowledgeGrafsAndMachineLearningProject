{
  "nbformat": 4,
  "nbformat_minor": 0,
  "metadata": {
    "colab": {
      "name": "GLoVE_train_danish.ipynb",
      "provenance": [],
      "collapsed_sections": [],
      "toc_visible": true,
      "machine_shape": "hm"
    },
    "kernelspec": {
      "name": "python3",
      "display_name": "Python 3"
    }
  },
  "cells": [
    {
      "cell_type": "markdown",
      "metadata": {
        "id": "4K2P_TJppiCI",
        "colab_type": "text"
      },
      "source": [
        "# Train GLoVE on danish WIKI-data"
      ]
    },
    {
      "cell_type": "code",
      "metadata": {
        "id": "PFOWK3nxp4Eq",
        "colab_type": "code",
        "outputId": "78bbbe36-94db-4630-eab3-90650c543709",
        "colab": {
          "base_uri": "https://localhost:8080/",
          "height": 250
        }
      },
      "source": [
        "#! conda install llvm gcc libgcc\n",
        "#! pip install glove_python\n",
        "#! pip install Gensim\n",
        "! pip install https://github.com/JonathanRaiman/glove/archive/master.zip\n",
        "#! pip install sklearn\n",
        "#! pip install wheel \n",
        "\n",
        "# https://github.com/sorenlind/lemmy\n",
        "#! pip install Lemmy "
      ],
      "execution_count": 0,
      "outputs": [
        {
          "output_type": "stream",
          "text": [
            "Collecting https://github.com/JonathanRaiman/glove/archive/master.zip\n",
            "\u001b[?25l  Downloading https://github.com/JonathanRaiman/glove/archive/master.zip\n",
            "\u001b[K     | 30kB 41.6MB/s\n",
            "\u001b[?25hRequirement already satisfied: cython in /usr/local/lib/python3.6/dist-packages (from glove==1.0.1) (0.29.17)\n",
            "Requirement already satisfied: numpy in /usr/local/lib/python3.6/dist-packages (from glove==1.0.1) (1.18.3)\n",
            "Building wheels for collected packages: glove\n",
            "  Building wheel for glove (setup.py) ... \u001b[?25l\u001b[?25hdone\n",
            "  Created wheel for glove: filename=glove-1.0.1-cp36-none-any.whl size=5000 sha256=2066cff61908576ea0cb41bc7a279c16eb3bd9837b4a1b2978bef334992a38a7\n",
            "  Stored in directory: /tmp/pip-ephem-wheel-cache-w9iju3pc/wheels/d8/f8/8d/8754c24e9f908071d7d0d903591b06d9915b56a491abaae45a\n",
            "Successfully built glove\n",
            "Installing collected packages: glove\n",
            "Successfully installed glove-1.0.1\n"
          ],
          "name": "stdout"
        }
      ]
    },
    {
      "cell_type": "code",
      "metadata": {
        "id": "5FP6m-4ouu7M",
        "colab_type": "code",
        "outputId": "ce1cf2fa-4d82-40ff-ab4f-225f7b1d040c",
        "colab": {
          "base_uri": "https://localhost:8080/",
          "height": 464
        }
      },
      "source": [
        "! wget --load-cookies /tmp/cookies.txt \"https://docs.google.com/uc?export=download&confirm=$(wget --quiet --save-cookies /tmp/cookies.txt --keep-session-cookies --no-check-certificate 'https://docs.google.com/uc?export=download&id=11JZMOg6szubeTIILAxpsv-WsMcmDfYsD' -O- | sed -rn 's/.*confirm=([0-9A-Za-z_]+).*/\\1\\n/p')&id=11JZMOg6szubeTIILAxpsv-WsMcmDfYsD\" -O danish_words_thina.json && rm -rf /tmp/cookies.txt"
      ],
      "execution_count": 0,
      "outputs": [
        {
          "output_type": "stream",
          "text": [
            "--2020-04-30 18:17:43--  https://docs.google.com/uc?export=download&confirm=Bo7C&id=11JZMOg6szubeTIILAxpsv-WsMcmDfYsD\n",
            "Resolving docs.google.com (docs.google.com)... 172.217.218.101, 172.217.218.113, 172.217.218.138, ...\n",
            "Connecting to docs.google.com (docs.google.com)|172.217.218.101|:443... connected.\n",
            "HTTP request sent, awaiting response... 302 Moved Temporarily\n",
            "Location: https://doc-00-6c-docs.googleusercontent.com/docs/securesc/tvng1bs7bq02mit2td6lqtbke4hah1vn/rhcg9cvuibhm8grain35lumgg29695v7/1588270650000/11375003261469243618/09949696177093222139Z/11JZMOg6szubeTIILAxpsv-WsMcmDfYsD?e=download [following]\n",
            "--2020-04-30 18:17:44--  https://doc-00-6c-docs.googleusercontent.com/docs/securesc/tvng1bs7bq02mit2td6lqtbke4hah1vn/rhcg9cvuibhm8grain35lumgg29695v7/1588270650000/11375003261469243618/09949696177093222139Z/11JZMOg6szubeTIILAxpsv-WsMcmDfYsD?e=download\n",
            "Resolving doc-00-6c-docs.googleusercontent.com (doc-00-6c-docs.googleusercontent.com)... 108.177.119.132, 2a00:1450:4013:c00::84\n",
            "Connecting to doc-00-6c-docs.googleusercontent.com (doc-00-6c-docs.googleusercontent.com)|108.177.119.132|:443... connected.\n",
            "HTTP request sent, awaiting response... 302 Found\n",
            "Location: https://docs.google.com/nonceSigner?nonce=r6s3k0d8th37i&continue=https://doc-00-6c-docs.googleusercontent.com/docs/securesc/tvng1bs7bq02mit2td6lqtbke4hah1vn/rhcg9cvuibhm8grain35lumgg29695v7/1588270650000/11375003261469243618/09949696177093222139Z/11JZMOg6szubeTIILAxpsv-WsMcmDfYsD?e%3Ddownload&hash=1kpjcaedr0p1hcvs0e0hug5ddcmonr4c [following]\n",
            "--2020-04-30 18:17:44--  https://docs.google.com/nonceSigner?nonce=r6s3k0d8th37i&continue=https://doc-00-6c-docs.googleusercontent.com/docs/securesc/tvng1bs7bq02mit2td6lqtbke4hah1vn/rhcg9cvuibhm8grain35lumgg29695v7/1588270650000/11375003261469243618/09949696177093222139Z/11JZMOg6szubeTIILAxpsv-WsMcmDfYsD?e%3Ddownload&hash=1kpjcaedr0p1hcvs0e0hug5ddcmonr4c\n",
            "Connecting to docs.google.com (docs.google.com)|172.217.218.101|:443... connected.\n",
            "HTTP request sent, awaiting response... 302 Found\n",
            "Location: https://doc-00-6c-docs.googleusercontent.com/docs/securesc/tvng1bs7bq02mit2td6lqtbke4hah1vn/rhcg9cvuibhm8grain35lumgg29695v7/1588270650000/11375003261469243618/09949696177093222139Z/11JZMOg6szubeTIILAxpsv-WsMcmDfYsD?e=download&nonce=r6s3k0d8th37i&user=09949696177093222139Z&hash=plv6ag3lgka41jo8eq1hl3a4di7eb3n7 [following]\n",
            "--2020-04-30 18:17:44--  https://doc-00-6c-docs.googleusercontent.com/docs/securesc/tvng1bs7bq02mit2td6lqtbke4hah1vn/rhcg9cvuibhm8grain35lumgg29695v7/1588270650000/11375003261469243618/09949696177093222139Z/11JZMOg6szubeTIILAxpsv-WsMcmDfYsD?e=download&nonce=r6s3k0d8th37i&user=09949696177093222139Z&hash=plv6ag3lgka41jo8eq1hl3a4di7eb3n7\n",
            "Connecting to doc-00-6c-docs.googleusercontent.com (doc-00-6c-docs.googleusercontent.com)|108.177.119.132|:443... connected.\n",
            "HTTP request sent, awaiting response... 200 OK\n",
            "Length: unspecified [application/json]\n",
            "Saving to: ‘danish_words_thina.json’\n",
            "\n",
            "danish_words_thina.     [                <=> ] 900.35M   254MB/s    in 3.5s    \n",
            "\n",
            "2020-04-30 18:17:48 (255 MB/s) - ‘danish_words_thina.json’ saved [944087842]\n",
            "\n"
          ],
          "name": "stdout"
        }
      ]
    },
    {
      "cell_type": "code",
      "metadata": {
        "id": "jviyDmYqp4t_",
        "colab_type": "code",
        "outputId": "5c991ab2-531a-40fc-df31-c0e660305ddc",
        "colab": {
          "base_uri": "https://localhost:8080/",
          "height": 1000
        }
      },
      "source": [
        "import json\n",
        "aaoW = ['Ã¦', 'Ã¸', 'Ã¥', 'Ã†', 'Ã˜', 'Ã…']\n",
        "aaoC = 'æ ø å Æ Ø Å'.split(' ')\n",
        "with open('danish_words_thina.json','r', encoding='latin1') as file: \n",
        "    text = json.loads(file.read())\n",
        "\n",
        "print('Loaded in mem!')\n",
        "for i in range(len(text)):\n",
        "    if i % 100000 == 0:\n",
        "        print(i * 100.0 / 14600000)\n",
        "    for w, c in zip(aaoW, aaoC): # bad fix for bad encoding\n",
        "        text[i] = [word.replace(w, c) for word in text[i]]\n",
        "    text[i] = [word.lower() for word in text[i]]"
      ],
      "execution_count": 0,
      "outputs": [
        {
          "output_type": "stream",
          "text": [
            "Loaded in mem!\n",
            "0.0\n",
            "0.684931506849315\n",
            "1.36986301369863\n",
            "2.0547945205479454\n",
            "2.73972602739726\n",
            "3.4246575342465753\n",
            "4.109589041095891\n",
            "4.794520547945205\n",
            "5.47945205479452\n",
            "6.164383561643835\n",
            "6.8493150684931505\n",
            "7.534246575342466\n",
            "8.219178082191782\n",
            "8.904109589041095\n",
            "9.58904109589041\n",
            "10.273972602739725\n",
            "10.95890410958904\n",
            "11.643835616438356\n",
            "12.32876712328767\n",
            "13.013698630136986\n",
            "13.698630136986301\n",
            "14.383561643835616\n",
            "15.068493150684931\n",
            "15.753424657534246\n",
            "16.438356164383563\n",
            "17.123287671232877\n",
            "17.80821917808219\n",
            "18.493150684931507\n",
            "19.17808219178082\n",
            "19.863013698630137\n",
            "20.54794520547945\n",
            "21.232876712328768\n",
            "21.91780821917808\n",
            "22.602739726027398\n",
            "23.28767123287671\n",
            "23.972602739726028\n",
            "24.65753424657534\n",
            "25.34246575342466\n",
            "26.027397260273972\n",
            "26.71232876712329\n",
            "27.397260273972602\n",
            "28.08219178082192\n",
            "28.767123287671232\n",
            "29.45205479452055\n",
            "30.136986301369863\n",
            "30.82191780821918\n",
            "31.506849315068493\n",
            "32.19178082191781\n",
            "32.87671232876713\n",
            "33.56164383561644\n",
            "34.24657534246575\n",
            "34.93150684931507\n",
            "35.61643835616438\n",
            "36.3013698630137\n",
            "36.986301369863014\n",
            "37.67123287671233\n",
            "38.35616438356164\n",
            "39.04109589041096\n",
            "39.726027397260275\n",
            "40.41095890410959\n",
            "41.0958904109589\n",
            "41.78082191780822\n",
            "42.465753424657535\n",
            "43.15068493150685\n",
            "43.83561643835616\n",
            "44.52054794520548\n",
            "45.205479452054796\n",
            "45.89041095890411\n",
            "46.57534246575342\n",
            "47.26027397260274\n",
            "47.945205479452056\n",
            "48.63013698630137\n",
            "49.31506849315068\n",
            "50.0\n",
            "50.68493150684932\n",
            "51.36986301369863\n",
            "52.054794520547944\n",
            "52.73972602739726\n",
            "53.42465753424658\n",
            "54.10958904109589\n",
            "54.794520547945204\n",
            "55.47945205479452\n",
            "56.16438356164384\n",
            "56.84931506849315\n",
            "57.534246575342465\n",
            "58.21917808219178\n",
            "58.9041095890411\n",
            "59.58904109589041\n",
            "60.273972602739725\n",
            "60.95890410958904\n",
            "61.64383561643836\n",
            "62.32876712328767\n",
            "63.013698630136986\n",
            "63.6986301369863\n",
            "64.38356164383562\n",
            "65.06849315068493\n",
            "65.75342465753425\n",
            "66.43835616438356\n",
            "67.12328767123287\n",
            "67.8082191780822\n",
            "68.4931506849315\n",
            "69.17808219178082\n",
            "69.86301369863014\n",
            "70.54794520547945\n",
            "71.23287671232876\n",
            "71.91780821917808\n",
            "72.6027397260274\n",
            "73.28767123287672\n",
            "73.97260273972603\n",
            "74.65753424657534\n",
            "75.34246575342466\n",
            "76.02739726027397\n",
            "76.71232876712328\n",
            "77.3972602739726\n",
            "78.08219178082192\n",
            "78.76712328767124\n",
            "79.45205479452055\n",
            "80.13698630136986\n",
            "80.82191780821918\n",
            "81.5068493150685\n",
            "82.1917808219178\n",
            "82.87671232876713\n",
            "83.56164383561644\n",
            "84.24657534246575\n",
            "84.93150684931507\n",
            "85.61643835616438\n",
            "86.3013698630137\n",
            "86.98630136986301\n",
            "87.67123287671232\n",
            "88.35616438356165\n",
            "89.04109589041096\n",
            "89.72602739726027\n",
            "90.41095890410959\n",
            "91.0958904109589\n",
            "91.78082191780823\n",
            "92.46575342465754\n",
            "93.15068493150685\n",
            "93.83561643835617\n",
            "94.52054794520548\n",
            "95.20547945205479\n",
            "95.89041095890411\n",
            "96.57534246575342\n",
            "97.26027397260275\n",
            "97.94520547945206\n",
            "98.63013698630137\n",
            "99.31506849315069\n",
            "100.0\n"
          ],
          "name": "stdout"
        }
      ]
    },
    {
      "cell_type": "code",
      "metadata": {
        "id": "s_8dSVgSqFLl",
        "colab_type": "code",
        "colab": {}
      },
      "source": [
        "import lemmy\n",
        "\n",
        "# Create an instance of the standalone lemmatizer.\n",
        "lemmatizer = lemmy.load(\"da\")\n",
        "\n",
        "# Find lemma for the words in text file. First argument is an empty POS tag.\n",
        "for i in range(len(text)): \n",
        "    if i % 100000 == 0:\n",
        "        print(i * 100.0 / 14600000)\n",
        "\n",
        "    for j in range(len(text[i])): \n",
        "        text[i][j] = lemmatizer.lemmatize(\"\", text[i][j])"
      ],
      "execution_count": 0,
      "outputs": []
    },
    {
      "cell_type": "code",
      "metadata": {
        "id": "RmXFLgzIqFYU",
        "colab_type": "code",
        "outputId": "4a6d40dc-c584-4631-d0f9-9bea4b3ec7d7",
        "colab": {
          "base_uri": "https://localhost:8080/",
          "height": 52
        }
      },
      "source": [
        "print(text[0])\n",
        "\n",
        "s = set()\n",
        "for line in text:\n",
        "    for word in line:\n",
        "        s.add(word)\n",
        "print(len(s))"
      ],
      "execution_count": 0,
      "outputs": [
        {
          "output_type": "stream",
          "text": [
            "['arkæologi', 'studiet', 'tiders', 'menneskelige', 'aktivitet', 'primært', 'studiet', 'menneskets', 'materielle', 'levn']\n",
            "2003486\n"
          ],
          "name": "stdout"
        }
      ]
    },
    {
      "cell_type": "code",
      "metadata": {
        "id": "e_sA1jY3qMpZ",
        "colab_type": "code",
        "colab": {}
      },
      "source": [
        "from sklearn.feature_extraction.text import CountVectorizer"
      ],
      "execution_count": 0,
      "outputs": []
    },
    {
      "cell_type": "code",
      "metadata": {
        "id": "TxD0sV0wqRct",
        "colab_type": "code",
        "colab": {}
      },
      "source": [
        "vectorizer = CountVectorizer()\n",
        "corpus = ['Dette er en sætning til at teste ting og sager']\n",
        "X = vectorizer.fit_transform(corpus)"
      ],
      "execution_count": 0,
      "outputs": []
    },
    {
      "cell_type": "code",
      "metadata": {
        "id": "Ect7L0UxqUWO",
        "colab_type": "code",
        "outputId": "25286c19-6e17-4941-eb6f-91849ccf57f2",
        "colab": {
          "base_uri": "https://localhost:8080/",
          "height": 1000
        }
      },
      "source": [
        "import numpy as np\n",
        "n_words = len(s)\n",
        "m = {}\n",
        "m_words = {}\n",
        "count = 0\n",
        "for word in s:\n",
        "  m_words[word] = count\n",
        "  count += 1\n",
        "\n",
        "def cal_occ(sentence,m, window):\n",
        "    for i,word in enumerate(sentence):\n",
        "        for j in range(max(i-window,0),min(i+window,len(sentence))):\n",
        "            n1 = m_words[word]\n",
        "            n2 = m_words[sentence[j]]\n",
        "            m1 = min(n1, n2)\n",
        "            m2 = max(n1, n2)\n",
        "            index = m1 * (n_words + 1) + m2\n",
        "            if not index in  m:\n",
        "              m[index] = 1\n",
        "            else:\n",
        "              m[index] += 1\n",
        "\n",
        "for i,sentence in enumerate(text):\n",
        "    cal_occ(sentence, m, 15)\n",
        "    if i % 100000 == 0:\n",
        "            print(i * 100.0 / 14600000)"
      ],
      "execution_count": 0,
      "outputs": [
        {
          "output_type": "stream",
          "text": [
            "0.0\n",
            "0.684931506849315\n",
            "1.36986301369863\n",
            "2.0547945205479454\n",
            "2.73972602739726\n",
            "3.4246575342465753\n",
            "4.109589041095891\n",
            "4.794520547945205\n",
            "5.47945205479452\n",
            "6.164383561643835\n",
            "6.8493150684931505\n",
            "7.534246575342466\n",
            "8.219178082191782\n",
            "8.904109589041095\n",
            "9.58904109589041\n",
            "10.273972602739725\n",
            "10.95890410958904\n",
            "11.643835616438356\n",
            "12.32876712328767\n",
            "13.013698630136986\n",
            "13.698630136986301\n",
            "14.383561643835616\n",
            "15.068493150684931\n",
            "15.753424657534246\n",
            "16.438356164383563\n",
            "17.123287671232877\n",
            "17.80821917808219\n",
            "18.493150684931507\n",
            "19.17808219178082\n",
            "19.863013698630137\n",
            "20.54794520547945\n",
            "21.232876712328768\n",
            "21.91780821917808\n",
            "22.602739726027398\n",
            "23.28767123287671\n",
            "23.972602739726028\n",
            "24.65753424657534\n",
            "25.34246575342466\n",
            "26.027397260273972\n",
            "26.71232876712329\n",
            "27.397260273972602\n",
            "28.08219178082192\n",
            "28.767123287671232\n",
            "29.45205479452055\n",
            "30.136986301369863\n",
            "30.82191780821918\n",
            "31.506849315068493\n",
            "32.19178082191781\n",
            "32.87671232876713\n",
            "33.56164383561644\n",
            "34.24657534246575\n",
            "34.93150684931507\n",
            "35.61643835616438\n",
            "36.3013698630137\n",
            "36.986301369863014\n",
            "37.67123287671233\n",
            "38.35616438356164\n",
            "39.04109589041096\n",
            "39.726027397260275\n",
            "40.41095890410959\n",
            "41.0958904109589\n",
            "41.78082191780822\n",
            "42.465753424657535\n",
            "43.15068493150685\n",
            "43.83561643835616\n",
            "44.52054794520548\n",
            "45.205479452054796\n",
            "45.89041095890411\n",
            "46.57534246575342\n",
            "47.26027397260274\n",
            "47.945205479452056\n",
            "48.63013698630137\n",
            "49.31506849315068\n",
            "50.0\n",
            "50.68493150684932\n",
            "51.36986301369863\n",
            "52.054794520547944\n",
            "52.73972602739726\n",
            "53.42465753424658\n",
            "54.10958904109589\n",
            "54.794520547945204\n",
            "55.47945205479452\n",
            "56.16438356164384\n",
            "56.84931506849315\n",
            "57.534246575342465\n",
            "58.21917808219178\n",
            "58.9041095890411\n",
            "59.58904109589041\n",
            "60.273972602739725\n",
            "60.95890410958904\n",
            "61.64383561643836\n",
            "62.32876712328767\n",
            "63.013698630136986\n",
            "63.6986301369863\n",
            "64.38356164383562\n",
            "65.06849315068493\n",
            "65.75342465753425\n",
            "66.43835616438356\n",
            "67.12328767123287\n",
            "67.8082191780822\n",
            "68.4931506849315\n",
            "69.17808219178082\n",
            "69.86301369863014\n",
            "70.54794520547945\n",
            "71.23287671232876\n",
            "71.91780821917808\n",
            "72.6027397260274\n",
            "73.28767123287672\n",
            "73.97260273972603\n",
            "74.65753424657534\n",
            "75.34246575342466\n",
            "76.02739726027397\n",
            "76.71232876712328\n",
            "77.3972602739726\n",
            "78.08219178082192\n",
            "78.76712328767124\n",
            "79.45205479452055\n",
            "80.13698630136986\n",
            "80.82191780821918\n",
            "81.5068493150685\n",
            "82.1917808219178\n",
            "82.87671232876713\n",
            "83.56164383561644\n",
            "84.24657534246575\n",
            "84.93150684931507\n",
            "85.61643835616438\n",
            "86.3013698630137\n",
            "86.98630136986301\n",
            "87.67123287671232\n",
            "88.35616438356165\n",
            "89.04109589041096\n",
            "89.72602739726027\n",
            "90.41095890410959\n",
            "91.0958904109589\n",
            "91.78082191780823\n",
            "92.46575342465754\n",
            "93.15068493150685\n",
            "93.83561643835617\n",
            "94.52054794520548\n",
            "95.20547945205479\n",
            "95.89041095890411\n",
            "96.57534246575342\n",
            "97.26027397260275\n",
            "97.94520547945206\n",
            "98.63013698630137\n",
            "99.31506849315069\n",
            "100.0\n"
          ],
          "name": "stdout"
        }
      ]
    },
    {
      "cell_type": "code",
      "metadata": {
        "id": "zEkl1HNa0NGj",
        "colab_type": "code",
        "outputId": "6d85cf68-edb8-409b-827f-41de4eaac1aa",
        "colab": {
          "base_uri": "https://localhost:8080/",
          "height": 35
        }
      },
      "source": [
        "del text[:] # more space\n",
        "s.clear()\n",
        "print(len(m))"
      ],
      "execution_count": 0,
      "outputs": [
        {
          "output_type": "stream",
          "text": [
            "113865170\n"
          ],
          "name": "stdout"
        }
      ]
    },
    {
      "cell_type": "code",
      "metadata": {
        "id": "BIrWb1Ki6O3S",
        "colab_type": "code",
        "outputId": "646b1834-f5b8-4bac-d34f-9e1ab32b483c",
        "colab": {
          "base_uri": "https://localhost:8080/",
          "height": 1000
        }
      },
      "source": [
        "occ = {}\n",
        "while True:\n",
        "  i = 0\n",
        "  keys_to_delete = []\n",
        "  for index in m:\n",
        "    if i % 1000000 == 0:\n",
        "      print(i * 100.0 / len(m))\n",
        "    if i == 1000000:\n",
        "      break\n",
        "    keys_to_delete.append(index)\n",
        "    i += 1\n",
        "    m1 = index // (n_words + 1)\n",
        "    m2 = index % (n_words + 1)\n",
        "    if m1 not in occ:\n",
        "      occ[m1] = {}\n",
        "    if m2 not in occ:\n",
        "      occ[m2] = {}\n",
        "    occ[m1][m2] = m[index]\n",
        "    occ[m2][m1] = m[index]\n",
        "  for k in keys_to_delete:\n",
        "    del m[k]\n",
        "  if len(m) == 0:\n",
        "    break"
      ],
      "execution_count": 0,
      "outputs": [
        {
          "output_type": "stream",
          "text": [
            "0.0\n",
            "0.8782316840171582\n",
            "0.0\n",
            "0.8860129302955021\n",
            "0.0\n",
            "0.893933294876323\n",
            "0.0\n",
            "0.9019965422864548\n",
            "0.0\n",
            "0.9102065741126146\n",
            "0.0\n",
            "0.9185674352963396\n",
            "0.0\n",
            "0.9270833207790801\n",
            "0.0\n",
            "0.9357585825203852\n",
            "0.0\n",
            "0.94459773691385\n",
            "0.0\n",
            "0.9536054726273747\n",
            "0.0\n",
            "0.9627866588963365\n",
            "0.0\n",
            "0.9721463543004887\n",
            "0.0\n",
            "0.9816898160578341\n",
            "0.0\n",
            "0.9914225098713461\n",
            "0.0\n",
            "1.0013501203672912\n",
            "0.0\n",
            "1.0114785621670401\n",
            "0.0\n",
            "1.0218139916376787\n",
            "0.0\n",
            "1.0323628193704713\n",
            "0.0\n",
            "1.0431317234403277\n",
            "0.0\n",
            "1.0541276635038972\n",
            "0.0\n",
            "1.0653578957988357\n",
            "0.0\n",
            "1.076829989112172\n",
            "0.0\n",
            "1.088551841791617\n",
            "0.0\n",
            "1.100531699880163\n",
            "0.0\n",
            "1.11277817646147\n",
            "0.0\n",
            "1.125300272311413\n",
            "0.0\n",
            "1.1381073979598515\n",
            "0.0\n",
            "1.1512093972762616\n",
            "0.0\n",
            "1.1646165727034605\n",
            "0.0\n",
            "1.1783397122753658\n",
            "0.0\n",
            "1.1923901185676962\n",
            "0.0\n",
            "1.2067796397449013\n",
            "0.0\n",
            "1.2215207028825568\n",
            "0.0\n",
            "1.236626349762203\n",
            "0.0\n",
            "1.252110275355327\n",
            "0.0\n",
            "1.267986869235177\n",
            "0.0\n",
            "1.2842712601796156\n",
            "0.0\n",
            "1.300979364255618\n",
            "0.0\n",
            "1.31812793670666\n",
            "0.0\n",
            "1.335734627998574\n",
            "0.0\n",
            "1.3538180444179577\n",
            "0.0\n",
            "1.372397813660491\n",
            "0.0\n",
            "1.3914946558951993\n",
            "0.0\n",
            "1.4111304608455748\n",
            "0.0\n",
            "1.4313283714904008\n",
            "0.0\n",
            "1.4521128750571588\n",
            "0.0\n",
            "1.4735099020602174\n",
            "0.0\n",
            "1.4955469342259955\n",
            "0.0\n",
            "1.5182531222495896\n",
            "0.0\n",
            "1.5416594144438378\n",
            "0.0\n",
            "1.5657986974746956\n",
            "0.0\n",
            "1.5907059505287269\n",
            "0.0\n",
            "1.6164184144325475\n",
            "0.0\n",
            "1.6429757774438156\n",
            "0.0\n",
            "1.6704203796631665\n",
            "0.0\n",
            "1.698797438281415\n",
            "0.0\n",
            "1.7281552961824878\n",
            "0.0\n",
            "1.758545696777131\n",
            "0.0\n",
            "1.790024088354157\n",
            "0.0\n",
            "1.8226499617152376\n",
            "0.0\n",
            "1.8564872254185776\n",
            "0.0\n",
            "1.8916046236113495\n",
            "0.0\n",
            "1.9280762021988938\n",
            "0.0\n",
            "1.9659818300027307\n",
            "0.0\n",
            "2.005407782626631\n",
            "0.0\n",
            "2.046447398013759\n",
            "0.0\n",
            "2.089201814179287\n",
            "0.0\n",
            "2.1337808013925907\n",
            "0.0\n",
            "2.180303703224037\n",
            "0.0\n",
            "2.2289005034417566\n",
            "0.0\n",
            "2.279713038841523\n",
            "0.0\n",
            "2.3328963818410147\n",
            "0.0\n",
            "2.388620421223657\n",
            "0.0\n",
            "2.447071674974067\n",
            "0.0\n",
            "2.508455375958512\n",
            "0.0\n",
            "2.5729978795924473\n",
            "0.0\n",
            "2.640949453019754\n",
            "0.0\n",
            "2.7125875182455417\n",
            "0.0\n",
            "2.7882204378231026\n",
            "0.0\n",
            "2.868191952025474\n",
            "0.0\n",
            "2.95288640216482\n",
            "0.0\n",
            "3.04273490750238\n",
            "0.0\n",
            "3.1382227052295657\n",
            "0.0\n",
            "3.239897917296422\n",
            "0.0\n",
            "3.3483820785215688\n",
            "0.0\n",
            "3.4643828531063563\n",
            "0.0\n",
            "3.5887094893015186\n",
            "0.0\n",
            "3.7222917256805\n",
            "0.0\n",
            "3.866203083142311\n",
            "0.0\n",
            "4.021689777306972\n",
            "0.0\n",
            "4.1902068998460935\n",
            "0.0\n",
            "4.373464094078461\n",
            "0.0\n",
            "4.573483764361311\n",
            "0.0\n",
            "4.792676024206848\n",
            "0.0\n",
            "5.033936281441337\n",
            "0.0\n",
            "5.300773859975818\n",
            "0.0\n",
            "5.59748381907365\n",
            "0.0\n",
            "5.929379899520728\n",
            "0.0\n",
            "6.303115566993609\n",
            "0.0\n",
            "6.727134637545349\n",
            "0.0\n",
            "7.212316906319937\n",
            "0.0\n",
            "7.772924881676651\n",
            "0.0\n",
            "8.42802926548882\n",
            "0.0\n",
            "9.203721616872999\n",
            "0.0\n",
            "10.136672758806995\n",
            "0.0\n",
            "11.280099535598302\n",
            "0.0\n",
            "12.714283353061663\n",
            "0.0\n",
            "14.566281679841868\n",
            "0.0\n",
            "17.049804182998958\n",
            "0.0\n",
            "20.554266346294167\n",
            "0.0\n",
            "25.872083246015052\n",
            "0.0\n",
            "34.901942991166315\n",
            "0.0\n",
            "53.61441584413217\n",
            "0.0\n"
          ],
          "name": "stdout"
        }
      ]
    },
    {
      "cell_type": "code",
      "metadata": {
        "id": "YYEaOy0pHxsn",
        "colab_type": "code",
        "colab": {}
      },
      "source": [
        "m = \"\"\n",
        "np.save('occ.npy', occ) \n",
        "np.save('m_words.npy', m_words) "
      ],
      "execution_count": 0,
      "outputs": []
    },
    {
      "cell_type": "code",
      "metadata": {
        "id": "MFZkaRxoy2ZN",
        "colab_type": "code",
        "outputId": "62c195f7-2c17-4037-e111-ba7a2c0edb8d",
        "colab": {
          "base_uri": "https://localhost:8080/",
          "height": 464
        }
      },
      "source": [
        "#! wget --load-cookies /tmp/cookies.txt \"https://docs.google.com/uc?export=download&confirm=$(wget --quiet --save-cookies /tmp/cookies.txt --keep-session-cookies --no-check-certificate 'https://docs.google.com/uc?export=download&id=1qnOAYztp94FvNkCm4y3ndah0viJgiI3p' -O- | sed -rn 's/.*confirm=([0-9A-Za-z_]+).*/\\1\\n/p')&id=1qnOAYztp94FvNkCm4y3ndah0viJgiI3p\" -O occ.npy && rm -rf /tmp/cookies.txt"
      ],
      "execution_count": 0,
      "outputs": [
        {
          "output_type": "stream",
          "text": [
            "--2020-05-05 17:04:11--  https://docs.google.com/uc?export=download&confirm=1aSm&id=1qnOAYztp94FvNkCm4y3ndah0viJgiI3p\n",
            "Resolving docs.google.com (docs.google.com)... 172.217.204.113, 172.217.204.102, 172.217.204.101, ...\n",
            "Connecting to docs.google.com (docs.google.com)|172.217.204.113|:443... connected.\n",
            "HTTP request sent, awaiting response... 302 Moved Temporarily\n",
            "Location: https://doc-04-84-docs.googleusercontent.com/docs/securesc/6tqtrn729b12rof009r43ggi4372i91c/f847r8br2olbt2hfv5q1fi79k1ci29bo/1588698225000/11375003261469243618/02106527022495999023Z/1qnOAYztp94FvNkCm4y3ndah0viJgiI3p?e=download [following]\n",
            "--2020-05-05 17:04:11--  https://doc-04-84-docs.googleusercontent.com/docs/securesc/6tqtrn729b12rof009r43ggi4372i91c/f847r8br2olbt2hfv5q1fi79k1ci29bo/1588698225000/11375003261469243618/02106527022495999023Z/1qnOAYztp94FvNkCm4y3ndah0viJgiI3p?e=download\n",
            "Resolving doc-04-84-docs.googleusercontent.com (doc-04-84-docs.googleusercontent.com)... 172.217.203.132, 2607:f8b0:400c:c07::84\n",
            "Connecting to doc-04-84-docs.googleusercontent.com (doc-04-84-docs.googleusercontent.com)|172.217.203.132|:443... connected.\n",
            "HTTP request sent, awaiting response... 302 Found\n",
            "Location: https://docs.google.com/nonceSigner?nonce=t0resu1811pvm&continue=https://doc-04-84-docs.googleusercontent.com/docs/securesc/6tqtrn729b12rof009r43ggi4372i91c/f847r8br2olbt2hfv5q1fi79k1ci29bo/1588698225000/11375003261469243618/02106527022495999023Z/1qnOAYztp94FvNkCm4y3ndah0viJgiI3p?e%3Ddownload&hash=rkp2riumgo03fp4fpk71ios2dhiqv6ig [following]\n",
            "--2020-05-05 17:04:11--  https://docs.google.com/nonceSigner?nonce=t0resu1811pvm&continue=https://doc-04-84-docs.googleusercontent.com/docs/securesc/6tqtrn729b12rof009r43ggi4372i91c/f847r8br2olbt2hfv5q1fi79k1ci29bo/1588698225000/11375003261469243618/02106527022495999023Z/1qnOAYztp94FvNkCm4y3ndah0viJgiI3p?e%3Ddownload&hash=rkp2riumgo03fp4fpk71ios2dhiqv6ig\n",
            "Connecting to docs.google.com (docs.google.com)|172.217.204.113|:443... connected.\n",
            "HTTP request sent, awaiting response... 302 Found\n",
            "Location: https://doc-04-84-docs.googleusercontent.com/docs/securesc/6tqtrn729b12rof009r43ggi4372i91c/f847r8br2olbt2hfv5q1fi79k1ci29bo/1588698225000/11375003261469243618/02106527022495999023Z/1qnOAYztp94FvNkCm4y3ndah0viJgiI3p?e=download&nonce=t0resu1811pvm&user=02106527022495999023Z&hash=l3u3e4rmm7job8kva7kk428l4crmont9 [following]\n",
            "--2020-05-05 17:04:11--  https://doc-04-84-docs.googleusercontent.com/docs/securesc/6tqtrn729b12rof009r43ggi4372i91c/f847r8br2olbt2hfv5q1fi79k1ci29bo/1588698225000/11375003261469243618/02106527022495999023Z/1qnOAYztp94FvNkCm4y3ndah0viJgiI3p?e=download&nonce=t0resu1811pvm&user=02106527022495999023Z&hash=l3u3e4rmm7job8kva7kk428l4crmont9\n",
            "Connecting to doc-04-84-docs.googleusercontent.com (doc-04-84-docs.googleusercontent.com)|172.217.203.132|:443... connected.\n",
            "HTTP request sent, awaiting response... 200 OK\n",
            "Length: unspecified [application/octet-stream]\n",
            "Saving to: ‘occ.npy’\n",
            "\n",
            "occ.npy                 [      <=>           ]   1.48G   111MB/s    in 14s     \n",
            "\n",
            "2020-05-05 17:04:25 (107 MB/s) - ‘occ.npy’ saved [1591174591]\n",
            "\n"
          ],
          "name": "stdout"
        }
      ]
    },
    {
      "cell_type": "code",
      "metadata": {
        "id": "fZ4KCRk3PHC-",
        "colab_type": "code",
        "colab": {}
      },
      "source": [
        "import numpy as np\n",
        "m_words = np.load('/content/drive/My Drive/m_words.npy',allow_pickle='TRUE').item()\n",
        "#occ = np.load('occ.npy',allow_pickle='TRUE').item()"
      ],
      "execution_count": 0,
      "outputs": []
    },
    {
      "cell_type": "code",
      "metadata": {
        "id": "mI0VzbDXwUUp",
        "colab_type": "code",
        "colab": {}
      },
      "source": [
        "from google.colab import drive\n",
        "drive.mount('/content/drive')"
      ],
      "execution_count": 0,
      "outputs": []
    },
    {
      "cell_type": "code",
      "metadata": {
        "id": "U8a3xh21qUhN",
        "colab_type": "code",
        "outputId": "7bf685c9-d463-4c2c-e367-00b1dd7431d1",
        "colab": {
          "base_uri": "https://localhost:8080/",
          "height": 535
        }
      },
      "source": [
        "import glove\n",
        "model = glove.Glove(occ, d=50, alpha=0.75, x_max=100.0)\n",
        "print('Loaded')\n",
        "for epoch in range(25):\n",
        "    err = model.train(batch_size=200, workers=9)\n",
        "    print(\"epoch %d, error %.3f\" % (epoch, err), flush=True)\n",
        "\n",
        "\n",
        "#The trained embeddings are now present under `model.W`."
      ],
      "execution_count": 0,
      "outputs": [
        {
          "output_type": "stream",
          "text": [
            "/usr/local/lib/python3.6/dist-packages/Cython/Compiler/Main.py:369: FutureWarning: Cython directive 'language_level' not set, using 2 for now (Py2). This will change in a later release! File: /usr/local/lib/python3.6/dist-packages/glove/glove_inner.pyx\n",
            "  tree = Parsing.p_module(s, pxd, full_module_name)\n"
          ],
          "name": "stderr"
        },
        {
          "output_type": "stream",
          "text": [
            "Loaded\n",
            "epoch 0, error 0.037\n",
            "epoch 1, error 0.026\n",
            "epoch 2, error 0.023\n",
            "epoch 3, error 0.021\n",
            "epoch 4, error 0.020\n",
            "epoch 5, error 0.019\n",
            "epoch 6, error 0.019\n",
            "epoch 7, error 0.018\n",
            "epoch 8, error 0.018\n",
            "epoch 9, error 0.018\n",
            "epoch 10, error 0.017\n",
            "epoch 11, error 0.017\n",
            "epoch 12, error 0.017\n",
            "epoch 13, error 0.017\n",
            "epoch 14, error 0.017\n",
            "epoch 15, error 0.017\n",
            "epoch 16, error 0.017\n",
            "epoch 17, error 0.016\n",
            "epoch 18, error 0.016\n",
            "epoch 19, error 0.016\n",
            "epoch 20, error 0.016\n",
            "epoch 21, error 0.016\n",
            "epoch 22, error 0.016\n",
            "epoch 23, error 0.016\n",
            "epoch 24, error 0.016\n"
          ],
          "name": "stdout"
        }
      ]
    },
    {
      "cell_type": "code",
      "metadata": {
        "id": "KFogFlmQWJsc",
        "colab_type": "code",
        "outputId": "f159b017-2559-4fb6-96df-be27722f89ea",
        "colab": {
          "base_uri": "https://localhost:8080/",
          "height": 1000
        }
      },
      "source": [
        "while True:\n",
        "  keys = []\n",
        "  i = 0\n",
        "  for key in occ:\n",
        "    keys.append(key)\n",
        "    i += 1\n",
        "    if i >= 10000:\n",
        "      break\n",
        "  for key in keys:\n",
        "    del occ[key]\n",
        "  if len(occ) == 0:\n",
        "    break\n",
        "  print(len(occ))\n",
        "import gc\n",
        "gc.collect()\n",
        "#del m_words\n",
        "#del occ"
      ],
      "execution_count": 0,
      "outputs": [
        {
          "output_type": "stream",
          "text": [
            "1993486\n",
            "1983486\n",
            "1973486\n",
            "1963486\n",
            "1953486\n",
            "1943486\n",
            "1933486\n",
            "1923486\n",
            "1913486\n",
            "1903486\n",
            "1893486\n",
            "1883486\n",
            "1873486\n",
            "1863486\n",
            "1853486\n",
            "1843486\n",
            "1833486\n",
            "1823486\n",
            "1813486\n",
            "1803486\n",
            "1793486\n",
            "1783486\n",
            "1773486\n",
            "1763486\n",
            "1753486\n",
            "1743486\n",
            "1733486\n",
            "1723486\n",
            "1713486\n",
            "1703486\n",
            "1693486\n",
            "1683486\n",
            "1673486\n",
            "1663486\n",
            "1653486\n",
            "1643486\n",
            "1633486\n",
            "1623486\n",
            "1613486\n",
            "1603486\n",
            "1593486\n",
            "1583486\n",
            "1573486\n",
            "1563486\n",
            "1553486\n",
            "1543486\n",
            "1533486\n",
            "1523486\n",
            "1513486\n",
            "1503486\n",
            "1493486\n",
            "1483486\n",
            "1473486\n",
            "1463486\n",
            "1453486\n",
            "1443486\n",
            "1433486\n",
            "1423486\n",
            "1413486\n",
            "1403486\n",
            "1393486\n",
            "1383486\n",
            "1373486\n",
            "1363486\n",
            "1353486\n",
            "1343486\n",
            "1333486\n",
            "1323486\n",
            "1313486\n",
            "1303486\n",
            "1293486\n",
            "1283486\n",
            "1273486\n",
            "1263486\n",
            "1253486\n",
            "1243486\n",
            "1233486\n",
            "1223486\n",
            "1213486\n",
            "1203486\n",
            "1193486\n",
            "1183486\n",
            "1173486\n",
            "1163486\n",
            "1153486\n",
            "1143486\n",
            "1133486\n",
            "1123486\n",
            "1113486\n",
            "1103486\n",
            "1093486\n",
            "1083486\n",
            "1073486\n",
            "1063486\n",
            "1053486\n",
            "1043486\n",
            "1033486\n",
            "1023486\n",
            "1013486\n",
            "1003486\n",
            "993486\n",
            "983486\n",
            "973486\n",
            "963486\n",
            "953486\n",
            "943486\n",
            "933486\n",
            "923486\n",
            "913486\n",
            "903486\n",
            "893486\n",
            "883486\n",
            "873486\n",
            "863486\n",
            "853486\n",
            "843486\n",
            "833486\n",
            "823486\n",
            "813486\n",
            "803486\n",
            "793486\n",
            "783486\n",
            "773486\n",
            "763486\n",
            "753486\n",
            "743486\n",
            "733486\n",
            "723486\n",
            "713486\n",
            "703486\n",
            "693486\n",
            "683486\n",
            "673486\n",
            "663486\n",
            "653486\n",
            "643486\n",
            "633486\n",
            "623486\n",
            "613486\n",
            "603486\n",
            "593486\n",
            "583486\n",
            "573486\n",
            "563486\n",
            "553486\n",
            "543486\n",
            "533486\n",
            "523486\n",
            "513486\n",
            "503486\n",
            "493486\n",
            "483486\n",
            "473486\n",
            "463486\n",
            "453486\n",
            "443486\n",
            "433486\n",
            "423486\n",
            "413486\n",
            "403486\n",
            "393486\n",
            "383486\n",
            "373486\n",
            "363486\n",
            "353486\n",
            "343486\n",
            "333486\n",
            "323486\n",
            "313486\n",
            "303486\n",
            "293486\n",
            "283486\n",
            "273486\n",
            "263486\n",
            "253486\n",
            "243486\n",
            "233486\n",
            "223486\n",
            "213486\n",
            "203486\n",
            "193486\n",
            "183486\n",
            "173486\n",
            "163486\n",
            "153486\n",
            "143486\n",
            "133486\n",
            "123486\n",
            "113486\n",
            "103486\n",
            "93486\n",
            "83486\n",
            "73486\n",
            "63486\n",
            "53486\n",
            "43486\n",
            "33486\n",
            "23486\n",
            "13486\n",
            "3486\n"
          ],
          "name": "stdout"
        },
        {
          "output_type": "execute_result",
          "data": {
            "text/plain": [
              "11945"
            ]
          },
          "metadata": {
            "tags": []
          },
          "execution_count": 6
        }
      ]
    },
    {
      "cell_type": "code",
      "metadata": {
        "id": "Qim3rOzLqUvI",
        "colab_type": "code",
        "outputId": "cd6e4863-8f49-4f9a-9596-0e3855bab4c8",
        "colab": {
          "base_uri": "https://localhost:8080/",
          "height": 204
        }
      },
      "source": [
        "import pickle \n",
        "filehandler = open(\"model.pickle\", 'wb') \n",
        "pickle.dump(model, filehandler)\n"
      ],
      "execution_count": 0,
      "outputs": [
        {
          "output_type": "error",
          "ename": "NameError",
          "evalue": "ignored",
          "traceback": [
            "\u001b[0;31m---------------------------------------------------------------------------\u001b[0m",
            "\u001b[0;31mNameError\u001b[0m                                 Traceback (most recent call last)",
            "\u001b[0;32m<ipython-input-4-0512c69de08c>\u001b[0m in \u001b[0;36m<module>\u001b[0;34m()\u001b[0m\n\u001b[1;32m      1\u001b[0m \u001b[0;32mimport\u001b[0m \u001b[0mpickle\u001b[0m\u001b[0;34m\u001b[0m\u001b[0;34m\u001b[0m\u001b[0m\n\u001b[1;32m      2\u001b[0m \u001b[0mfilehandler\u001b[0m \u001b[0;34m=\u001b[0m \u001b[0mopen\u001b[0m\u001b[0;34m(\u001b[0m\u001b[0;34m\"model.pickle\"\u001b[0m\u001b[0;34m,\u001b[0m \u001b[0;34m'wb'\u001b[0m\u001b[0;34m)\u001b[0m\u001b[0;34m\u001b[0m\u001b[0;34m\u001b[0m\u001b[0m\n\u001b[0;32m----> 3\u001b[0;31m \u001b[0mpickle\u001b[0m\u001b[0;34m.\u001b[0m\u001b[0mdump\u001b[0m\u001b[0;34m(\u001b[0m\u001b[0mmodel\u001b[0m\u001b[0;34m,\u001b[0m \u001b[0mfilehandler\u001b[0m\u001b[0;34m)\u001b[0m\u001b[0;34m\u001b[0m\u001b[0;34m\u001b[0m\u001b[0m\n\u001b[0m",
            "\u001b[0;31mNameError\u001b[0m: name 'model' is not defined"
          ]
        }
      ]
    },
    {
      "cell_type": "code",
      "metadata": {
        "id": "ZvILRQqWIHTM",
        "colab_type": "code",
        "outputId": "5643beef-9fc0-46b6-f0f2-2d6c145c39ac",
        "colab": {
          "base_uri": "https://localhost:8080/",
          "height": 70
        }
      },
      "source": [
        ""
      ],
      "execution_count": 0,
      "outputs": [
        {
          "output_type": "stream",
          "text": [
            "  % Total    % Received % Xferd  Average Speed   Time    Time     Time  Current\n",
            "                                 Dload  Upload   Total   Spent    Left  Speed\n",
            "  0 3118M    0 10.6M    0     0   499k      0  1:46:30  0:00:21  1:46:09  200k^C\n"
          ],
          "name": "stdout"
        }
      ]
    },
    {
      "cell_type": "code",
      "metadata": {
        "id": "Do5RLKY-uWnR",
        "colab_type": "code",
        "outputId": "42cce204-4c0d-4da4-9bca-cdf2c9ec3f64",
        "colab": {
          "base_uri": "https://localhost:8080/",
          "height": 335
        }
      },
      "source": [
        "#from google.colab import files\n",
        "#files.download('occ.npy')"
      ],
      "execution_count": 0,
      "outputs": [
        {
          "output_type": "error",
          "ename": "KeyboardInterrupt",
          "evalue": "ignored",
          "traceback": [
            "\u001b[0;31m---------------------------------------------------------------------------\u001b[0m",
            "\u001b[0;31mKeyboardInterrupt\u001b[0m                         Traceback (most recent call last)",
            "\u001b[0;32m<ipython-input-12-e787489ef2fa>\u001b[0m in \u001b[0;36m<module>\u001b[0;34m()\u001b[0m\n\u001b[1;32m      1\u001b[0m \u001b[0;32mfrom\u001b[0m \u001b[0mgoogle\u001b[0m\u001b[0;34m.\u001b[0m\u001b[0mcolab\u001b[0m \u001b[0;32mimport\u001b[0m \u001b[0mfiles\u001b[0m\u001b[0;34m\u001b[0m\u001b[0;34m\u001b[0m\u001b[0m\n\u001b[0;32m----> 2\u001b[0;31m \u001b[0mfiles\u001b[0m\u001b[0;34m.\u001b[0m\u001b[0mdownload\u001b[0m\u001b[0;34m(\u001b[0m\u001b[0;34m'occ.npy'\u001b[0m\u001b[0;34m)\u001b[0m\u001b[0;34m\u001b[0m\u001b[0;34m\u001b[0m\u001b[0m\n\u001b[0m",
            "\u001b[0;32m/usr/local/lib/python3.6/dist-packages/google/colab/files.py\u001b[0m in \u001b[0;36mdownload\u001b[0;34m(filename)\u001b[0m\n\u001b[1;32m    176\u001b[0m       \u001b[0;34m'port'\u001b[0m\u001b[0;34m:\u001b[0m \u001b[0mport\u001b[0m\u001b[0;34m,\u001b[0m\u001b[0;34m\u001b[0m\u001b[0;34m\u001b[0m\u001b[0m\n\u001b[1;32m    177\u001b[0m       \u001b[0;34m'path'\u001b[0m\u001b[0;34m:\u001b[0m \u001b[0m_os\u001b[0m\u001b[0;34m.\u001b[0m\u001b[0mpath\u001b[0m\u001b[0;34m.\u001b[0m\u001b[0mabspath\u001b[0m\u001b[0;34m(\u001b[0m\u001b[0mfilename\u001b[0m\u001b[0;34m)\u001b[0m\u001b[0;34m,\u001b[0m\u001b[0;34m\u001b[0m\u001b[0;34m\u001b[0m\u001b[0m\n\u001b[0;32m--> 178\u001b[0;31m       \u001b[0;34m'name'\u001b[0m\u001b[0;34m:\u001b[0m \u001b[0m_os\u001b[0m\u001b[0;34m.\u001b[0m\u001b[0mpath\u001b[0m\u001b[0;34m.\u001b[0m\u001b[0mbasename\u001b[0m\u001b[0;34m(\u001b[0m\u001b[0mfilename\u001b[0m\u001b[0;34m)\u001b[0m\u001b[0;34m,\u001b[0m\u001b[0;34m\u001b[0m\u001b[0;34m\u001b[0m\u001b[0m\n\u001b[0m\u001b[1;32m    179\u001b[0m   })\n",
            "\u001b[0;32m/usr/local/lib/python3.6/dist-packages/google/colab/output/_js.py\u001b[0m in \u001b[0;36meval_js\u001b[0;34m(script, ignore_result)\u001b[0m\n\u001b[1;32m     37\u001b[0m   \u001b[0;32mif\u001b[0m \u001b[0mignore_result\u001b[0m\u001b[0;34m:\u001b[0m\u001b[0;34m\u001b[0m\u001b[0;34m\u001b[0m\u001b[0m\n\u001b[1;32m     38\u001b[0m     \u001b[0;32mreturn\u001b[0m\u001b[0;34m\u001b[0m\u001b[0;34m\u001b[0m\u001b[0m\n\u001b[0;32m---> 39\u001b[0;31m   \u001b[0;32mreturn\u001b[0m \u001b[0m_message\u001b[0m\u001b[0;34m.\u001b[0m\u001b[0mread_reply_from_input\u001b[0m\u001b[0;34m(\u001b[0m\u001b[0mrequest_id\u001b[0m\u001b[0;34m)\u001b[0m\u001b[0;34m\u001b[0m\u001b[0;34m\u001b[0m\u001b[0m\n\u001b[0m\u001b[1;32m     40\u001b[0m \u001b[0;34m\u001b[0m\u001b[0m\n\u001b[1;32m     41\u001b[0m \u001b[0;34m\u001b[0m\u001b[0m\n",
            "\u001b[0;32m/usr/local/lib/python3.6/dist-packages/google/colab/_message.py\u001b[0m in \u001b[0;36mread_reply_from_input\u001b[0;34m(message_id, timeout_sec)\u001b[0m\n\u001b[1;32m     99\u001b[0m     \u001b[0mreply\u001b[0m \u001b[0;34m=\u001b[0m \u001b[0m_read_next_input_message\u001b[0m\u001b[0;34m(\u001b[0m\u001b[0;34m)\u001b[0m\u001b[0;34m\u001b[0m\u001b[0;34m\u001b[0m\u001b[0m\n\u001b[1;32m    100\u001b[0m     \u001b[0;32mif\u001b[0m \u001b[0mreply\u001b[0m \u001b[0;34m==\u001b[0m \u001b[0m_NOT_READY\u001b[0m \u001b[0;32mor\u001b[0m \u001b[0;32mnot\u001b[0m \u001b[0misinstance\u001b[0m\u001b[0;34m(\u001b[0m\u001b[0mreply\u001b[0m\u001b[0;34m,\u001b[0m \u001b[0mdict\u001b[0m\u001b[0;34m)\u001b[0m\u001b[0;34m:\u001b[0m\u001b[0;34m\u001b[0m\u001b[0;34m\u001b[0m\u001b[0m\n\u001b[0;32m--> 101\u001b[0;31m       \u001b[0mtime\u001b[0m\u001b[0;34m.\u001b[0m\u001b[0msleep\u001b[0m\u001b[0;34m(\u001b[0m\u001b[0;36m0.025\u001b[0m\u001b[0;34m)\u001b[0m\u001b[0;34m\u001b[0m\u001b[0;34m\u001b[0m\u001b[0m\n\u001b[0m\u001b[1;32m    102\u001b[0m       \u001b[0;32mcontinue\u001b[0m\u001b[0;34m\u001b[0m\u001b[0;34m\u001b[0m\u001b[0m\n\u001b[1;32m    103\u001b[0m     if (reply.get('type') == 'colab_reply' and\n",
            "\u001b[0;31mKeyboardInterrupt\u001b[0m: "
          ]
        }
      ]
    },
    {
      "cell_type": "code",
      "metadata": {
        "id": "ErEblpK68jxK",
        "colab_type": "code",
        "outputId": "719074af-a1be-41c3-c40f-721ed8e3330c",
        "colab": {
          "base_uri": "https://localhost:8080/",
          "height": 464
        }
      },
      "source": [
        "! wget --load-cookies /tmp/cookies.txt \"https://docs.google.com/uc?export=download&confirm=$(wget --quiet --save-cookies /tmp/cookies.txt --keep-session-cookies --no-check-certificate 'https://docs.google.com/uc?export=download&id=19BwWAjwMopAYYYHJmx5Ny4EZmmFxnu9v' -O- | sed -rn 's/.*confirm=([0-9A-Za-z_]+).*/\\1\\n/p')&id=19BwWAjwMopAYYYHJmx5Ny4EZmmFxnu9v\" -O model.pickle && rm -rf /tmp/cookies.txt"
      ],
      "execution_count": 0,
      "outputs": [
        {
          "output_type": "stream",
          "text": [
            "--2020-05-06 17:08:21--  https://docs.google.com/uc?export=download&confirm=35Lk&id=19BwWAjwMopAYYYHJmx5Ny4EZmmFxnu9v\n",
            "Resolving docs.google.com (docs.google.com)... 64.233.189.102, 64.233.189.138, 64.233.189.100, ...\n",
            "Connecting to docs.google.com (docs.google.com)|64.233.189.102|:443... connected.\n",
            "HTTP request sent, awaiting response... 302 Moved Temporarily\n",
            "Location: https://doc-00-bs-docs.googleusercontent.com/docs/securesc/451517ostnth8lnspl2d7pbf5cg399ou/b6lac3um8tnnskooghtt445bss0mcdf5/1588784850000/11375003261469243618/10117562806681436359Z/19BwWAjwMopAYYYHJmx5Ny4EZmmFxnu9v?e=download [following]\n",
            "--2020-05-06 17:08:22--  https://doc-00-bs-docs.googleusercontent.com/docs/securesc/451517ostnth8lnspl2d7pbf5cg399ou/b6lac3um8tnnskooghtt445bss0mcdf5/1588784850000/11375003261469243618/10117562806681436359Z/19BwWAjwMopAYYYHJmx5Ny4EZmmFxnu9v?e=download\n",
            "Resolving doc-00-bs-docs.googleusercontent.com (doc-00-bs-docs.googleusercontent.com)... 74.125.204.132, 2404:6800:4008:c04::84\n",
            "Connecting to doc-00-bs-docs.googleusercontent.com (doc-00-bs-docs.googleusercontent.com)|74.125.204.132|:443... connected.\n",
            "HTTP request sent, awaiting response... 302 Found\n",
            "Location: https://docs.google.com/nonceSigner?nonce=b1mvjulcskc1q&continue=https://doc-00-bs-docs.googleusercontent.com/docs/securesc/451517ostnth8lnspl2d7pbf5cg399ou/b6lac3um8tnnskooghtt445bss0mcdf5/1588784850000/11375003261469243618/10117562806681436359Z/19BwWAjwMopAYYYHJmx5Ny4EZmmFxnu9v?e%3Ddownload&hash=c32vqv0m1hpu8lqvmilfu2euakb2gabg [following]\n",
            "--2020-05-06 17:08:22--  https://docs.google.com/nonceSigner?nonce=b1mvjulcskc1q&continue=https://doc-00-bs-docs.googleusercontent.com/docs/securesc/451517ostnth8lnspl2d7pbf5cg399ou/b6lac3um8tnnskooghtt445bss0mcdf5/1588784850000/11375003261469243618/10117562806681436359Z/19BwWAjwMopAYYYHJmx5Ny4EZmmFxnu9v?e%3Ddownload&hash=c32vqv0m1hpu8lqvmilfu2euakb2gabg\n",
            "Connecting to docs.google.com (docs.google.com)|64.233.189.102|:443... connected.\n",
            "HTTP request sent, awaiting response... 302 Found\n",
            "Location: https://doc-00-bs-docs.googleusercontent.com/docs/securesc/451517ostnth8lnspl2d7pbf5cg399ou/b6lac3um8tnnskooghtt445bss0mcdf5/1588784850000/11375003261469243618/10117562806681436359Z/19BwWAjwMopAYYYHJmx5Ny4EZmmFxnu9v?e=download&nonce=b1mvjulcskc1q&user=10117562806681436359Z&hash=jn86a5bbvvn7o3nb5qt3bin9q2j9386g [following]\n",
            "--2020-05-06 17:08:22--  https://doc-00-bs-docs.googleusercontent.com/docs/securesc/451517ostnth8lnspl2d7pbf5cg399ou/b6lac3um8tnnskooghtt445bss0mcdf5/1588784850000/11375003261469243618/10117562806681436359Z/19BwWAjwMopAYYYHJmx5Ny4EZmmFxnu9v?e=download&nonce=b1mvjulcskc1q&user=10117562806681436359Z&hash=jn86a5bbvvn7o3nb5qt3bin9q2j9386g\n",
            "Connecting to doc-00-bs-docs.googleusercontent.com (doc-00-bs-docs.googleusercontent.com)|74.125.204.132|:443... connected.\n",
            "HTTP request sent, awaiting response... 200 OK\n",
            "Length: unspecified [application/octet-stream]\n",
            "Saving to: ‘model.pickle’\n",
            "\n",
            "model.pickle            [              <=>   ]   3.04G  59.1MB/s    in 32s     \n",
            "\n",
            "2020-05-06 17:08:55 (98.3 MB/s) - ‘model.pickle’ saved [3269689857]\n",
            "\n"
          ],
          "name": "stdout"
        }
      ]
    },
    {
      "cell_type": "code",
      "metadata": {
        "id": "FF9tbuTEV_Tr",
        "colab_type": "code",
        "outputId": "4d9f4d0d-2b72-4b67-c3a9-8382a335bc07",
        "colab": {
          "base_uri": "https://localhost:8080/",
          "height": 72
        }
      },
      "source": [
        "import pickle \n",
        "import glove\n",
        "filehandler = open(\"/content/drive/My Drive/model.pickle\", 'rb') \n",
        "model = pickle.load(filehandler)\n"
      ],
      "execution_count": 0,
      "outputs": [
        {
          "output_type": "stream",
          "text": [
            "/usr/local/lib/python3.6/dist-packages/Cython/Compiler/Main.py:369: FutureWarning: Cython directive 'language_level' not set, using 2 for now (Py2). This will change in a later release! File: /usr/local/lib/python3.6/dist-packages/glove/glove_inner.pyx\n",
            "  tree = Parsing.p_module(s, pxd, full_module_name)\n"
          ],
          "name": "stderr"
        }
      ]
    },
    {
      "cell_type": "code",
      "metadata": {
        "id": "ynZ3qwRsYXN8",
        "colab_type": "code",
        "outputId": "63b5fd9d-26e2-47d5-f58b-0ebec2a392f3",
        "colab": {
          "base_uri": "https://localhost:8080/",
          "height": 35
        }
      },
      "source": [
        "# Test case \n",
        "word0 = m_words['min']\n",
        "word1 = m_words['din']\n",
        "word2 = m_words['hest']\n",
        "word3 = m_words['vores']\n",
        "\n",
        "vectors = np.zeros((50,4))\n",
        "vectors[:,0] = model.W[word0]\n",
        "vectors[:,1] = model.W[word1]\n",
        "vectors[:,2] = model.W[word2]\n",
        "vectors[:,3] = model.W[word3]\n",
        "\n",
        "CO = np.dot(vectors.T, vectors)\n",
        "square_mag = np.diag(CO)\n",
        "inv_square_mag = 1 / square_mag\n",
        "inv_square_mag[np.isinf(inv_square_mag)] = 0\n",
        "inv_mag = np.sqrt(inv_square_mag)\n",
        "cosine = CO * inv_mag\n",
        "cosine = cosine.T * inv_mag\n",
        "indices = np.argsort(cosine.sum(axis=0))\n",
        "outlier = indices[0]\n",
        "\n",
        "print(outlier)"
      ],
      "execution_count": 0,
      "outputs": [
        {
          "output_type": "stream",
          "text": [
            "2\n"
          ],
          "name": "stdout"
        }
      ]
    },
    {
      "cell_type": "code",
      "metadata": {
        "id": "g3iREt-wvaIp",
        "colab_type": "code",
        "outputId": "c32fb112-3116-4596-f5a2-f55eaebc3db3",
        "colab": {
          "resources": {
            "http://localhost:8080/nbextensions/google.colab/files.js": {
              "data": "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",
              "ok": true,
              "headers": [
                [
                  "content-type",
                  "application/javascript"
                ]
              ],
              "status": 200,
              "status_text": ""
            }
          },
          "base_uri": "https://localhost:8080/",
          "height": 75
        }
      },
      "source": [
        "from google.colab import files\n",
        "uploaded = files.upload()"
      ],
      "execution_count": 0,
      "outputs": [
        {
          "output_type": "display_data",
          "data": {
            "text/html": [
              "\n",
              "     <input type=\"file\" id=\"files-9e6d39a4-c575-4941-86f0-4c9a15cb4698\" name=\"files[]\" multiple disabled />\n",
              "     <output id=\"result-9e6d39a4-c575-4941-86f0-4c9a15cb4698\">\n",
              "      Upload widget is only available when the cell has been executed in the\n",
              "      current browser session. Please rerun this cell to enable.\n",
              "      </output>\n",
              "      <script src=\"/nbextensions/google.colab/files.js\"></script> "
            ],
            "text/plain": [
              "<IPython.core.display.HTML object>"
            ]
          },
          "metadata": {
            "tags": []
          }
        },
        {
          "output_type": "stream",
          "text": [
            "Saving Finn_data_dansk.txt to Finn_data_dansk.txt\n"
          ],
          "name": "stdout"
        }
      ]
    },
    {
      "cell_type": "code",
      "metadata": {
        "id": "IXYv8s6NuKO-",
        "colab_type": "code",
        "outputId": "b072a501-1c11-4157-a40b-1db3dae8c0f6",
        "colab": {
          "base_uri": "https://localhost:8080/",
          "height": 35
        }
      },
      "source": [
        "four_words_txt = []\n",
        "with open('Finn_data_dansk.txt', newline='', encoding = 'utf8') as file:\n",
        "    data = file.read().strip()\n",
        "lines = data.split(\"\\n\")\n",
        "four_words_txt = [line.split(\",\") for line in lines]\n",
        "four_words_txt = [[element.strip() for element in row] for row in four_words_txt]\n",
        "\n",
        "four_words_txt.pop(0)"
      ],
      "execution_count": 0,
      "outputs": [
        {
          "output_type": "execute_result",
          "data": {
            "text/plain": [
              "['word1', 'word2', 'word3', 'word4']"
            ]
          },
          "metadata": {
            "tags": []
          },
          "execution_count": 10
        }
      ]
    },
    {
      "cell_type": "code",
      "metadata": {
        "id": "5DyaoxZc_YLb",
        "colab_type": "code",
        "outputId": "d79494f9-84c1-403a-fddd-345bd61a2605",
        "colab": {
          "base_uri": "https://localhost:8080/",
          "height": 1000
        }
      },
      "source": [
        "four_words_txt"
      ],
      "execution_count": 0,
      "outputs": [
        {
          "output_type": "execute_result",
          "data": {
            "text/plain": [
              "[['æble', 'pære', 'kirsebær', 'stol'],\n",
              " ['stol', 'bord', 'reol', 'græs'],\n",
              " ['græs', 'træ', 'blomst', 'bil'],\n",
              " ['bil', 'cykel', 'tog', 'vind'],\n",
              " ['vind', 'regn', 'solskin', 'mandag'],\n",
              " ['mandag', 'tirsdag', 'søndag', 'tømrer'],\n",
              " ['tømrer', 'vvs-mand', 'snedker', 'barn'],\n",
              " ['barn', 'far', 'mormor', 'lampe'],\n",
              " ['lampe', 'stearinlys', 'lommelygte', 'jern'],\n",
              " ['jern', 'guld', 'magnesium', 'sjov'],\n",
              " ['sjov', 'dårlig', 'vanvittig', 'papir'],\n",
              " ['papir', 'ringbind', 'blyant', 'vagt'],\n",
              " ['vagt', 'politimand', 'fængselsbetjent', 'by'],\n",
              " ['by', 'landsby', 'købstad', 'småkage'],\n",
              " ['småkage', 'citronmåne', 'kringle', 'dør'],\n",
              " ['dør', 'væg', 'vindue', 'klaver'],\n",
              " ['klaver', 'trompet', 'blokfløjte', 'fandens'],\n",
              " ['fandens', 'fuck', 'sgu', 'vand'],\n",
              " ['vand', 'jord', 'ild', 'hukommelse'],\n",
              " ['hukommelse', 'intelligens', 'emotion', 'Niels Bohr'],\n",
              " ['Niels Bohr', 'H.C. Ørsted', 'Ole Rømer', 'Lars Løkke Rasmussen'],\n",
              " ['Lars Løkke Rasmussen',\n",
              "  'Poul Nyrup Rasmussen',\n",
              "  'Anders Fogh Rasmussen',\n",
              "  'Peter Schmeichel'],\n",
              " ['Peter Schmeichel',\n",
              "  'Kasper Schmeichel',\n",
              "  'Brian Laudrup',\n",
              "  'Caroline Wozniacki'],\n",
              " ['Caroline Wozniacki', 'Steffi Graf', 'Serena Williams', 'Monaco'],\n",
              " ['Monaco', 'Paris', 'Milano', 'Pia'],\n",
              " ['Pia', 'Lone', 'Marianne', 'Ole'],\n",
              " ['bold', 'fjerbold', 'puck', 'mave'],\n",
              " ['mave', 'bryst', 'ryg', 'hat'],\n",
              " ['hat', 'kasket', 'hue', 'ishockey'],\n",
              " ['ishockey', 'skiløb', 'skihop', 'fodbold'],\n",
              " ['gå', 'løbe', 'kravle', 'sidde'],\n",
              " ['rød', 'blå', 'violet', 'himmel'],\n",
              " ['Finland', 'Sverige', 'Norge', 'Kina'],\n",
              " ['Kina', 'Japan', 'Sydkorea', 'Irland'],\n",
              " ['humor', 'komedie', 'comedy', 'beskidt'],\n",
              " ['vaskemaskine', 'strygejern', 'tørretumbler', 'beskidt'],\n",
              " ['restaurant', 'café', 'bar', 'øl'],\n",
              " ['øl', 'vin', 'spiritus', 'køkken'],\n",
              " ['køkken', 'baderum', 'stue', 'øl'],\n",
              " ['wing', 'back', 'forward', 'vinge'],\n",
              " ['vinge', 'landingsstel', 'propel', 'kartoffel'],\n",
              " ['kartoffel', 'frikadelle', 'salat', 'pejs'],\n",
              " ['Viborg', 'Randers', 'Hobro', 'Kattegat'],\n",
              " ['Kattegat', 'Øresund', 'Alssund', 'Sjælland'],\n",
              " ['eg', 'lærketræ', 'æbletræ', 'slange'],\n",
              " ['hugorm', 'pyton', 'snog', 'hund'],\n",
              " ['ko', 'so', 'hest', 'krappe'],\n",
              " ['ugle', 'krage', 'måge', 'hund'],\n",
              " ['hund', 'ræv', 'ulv', 'krappe'],\n",
              " ['spilletid', 'halvleg', 'dommer', 'ræv'],\n",
              " ['tv', 'radio', 'telefon', 'klud'],\n",
              " ['ondt', 'forfærdeligt', 'skrækkeligt', 'herligt'],\n",
              " ['hoppende', 'dansende', 'løbende', 'døende'],\n",
              " ['saver', 'hamrer', 'skruer', 'aer'],\n",
              " ['går', 'spadserer', 'vandrer', 'siger'],\n",
              " ['gange', 'dividere', 'lægge sammen', 'vandrer'],\n",
              " ['mener', 'tror', 'ved', 'går'],\n",
              " ['fire', 'fem', 'sytten', 'aldrig'],\n",
              " ['Nielsen', 'Jensen', 'Olsen', 'kassen'],\n",
              " ['mega', 'kæmpe', 'enorm', 'smule'],\n",
              " ['kufferter', 'tasker', 'bæreposer', 'styrelser'],\n",
              " ['landstræner', 'håndboldekspert', 'mål', 'rum'],\n",
              " ['trup', 'gruppe', 'hold', 'sti'],\n",
              " ['grafik', 'figur', 'plot', 'lån'],\n",
              " ['januar', 'maj', 'juni', 'ur'],\n",
              " ['angiveligt', 'muligvis', 'sandsynligvis', 'nutidigt'],\n",
              " ['oplysninger', 'data', 'informationer', 'fjerner'],\n",
              " ['fire minutter', 'tre timer', 'en uge', 'to piger'],\n",
              " ['instrumentbrættet', 'motorer', 'cockpit', 'sagen'],\n",
              " ['anmeldelse', 'politi', 'forbrydelse', 'kaffe'],\n",
              " ['instrueret', 'organiseret', 'ledet', 'skuffet'],\n",
              " ['billede', 'foto', 'tegning', 'skål'],\n",
              " ['kapitel', 'paragraf', 'sektion', 'park'],\n",
              " ['virksomhed', 'firma', 'selskab', 'sovs'],\n",
              " ['tres', '60', 'LX', '3'],\n",
              " ['1864', '1807', '1940', '1909'],\n",
              " ['diplom', 'udmærkelse', 'pris', 'øremærke'],\n",
              " ['bange', 'urolig', 'nervøs', 'ordentlig'],\n",
              " ['norsk', 'engelsk', 'spansk', 'falsk'],\n",
              " ['mus', 'tastatur', 'skærm', 'bræt'],\n",
              " ['dør', 'kradser af', 'udånder', 'åbner'],\n",
              " ['og', 'samt', 'endvidere', 'sin'],\n",
              " ['hans', 'sit', 'vores', 'vises'],\n",
              " ['stod og råbte', 'lå og sov', 'sad og så', 'mand og kvinde'],\n",
              " ['frokost', 'morgenmad', 'brunch', 'måne'],\n",
              " ['mænd', 'personer', 'individer', 'gange'],\n",
              " ['kidnappe', 'røve', 'stjæle', 'køre'],\n",
              " ['råbte', 'skreg', 'larmede', 'vuggede'],\n",
              " ['kontorist', 'embedsmand', 'bureaukrat', 'spisebord'],\n",
              " ['vegetation', 'krat', 'bed', 'skur'],\n",
              " ['cyklist', 'bilist', 'chauffør', 'ekspedient'],\n",
              " ['bibliotek', 'bog', 'låner', 'flag'],\n",
              " ['halvsyg', 'forkølelse', 'hoster', 'vej'],\n",
              " ['musik', 'node', 'rytme', 'leder'],\n",
              " ['rapport', 'sagsakt', 'artikel', 'spand'],\n",
              " ['tekande', 'vinflaske', 'slikskål', 'racerbil'],\n",
              " ['forhører', 'spørger', 'anmoder', 'banker'],\n",
              " ['fremtidige', 'fortidige', 'nutidige', 'havdige'],\n",
              " ['kanal', 'flod', 'bæk', 'spejl'],\n",
              " ['kanal', 'program', 'udsendelse', 'vask']]"
            ]
          },
          "metadata": {
            "tags": []
          },
          "execution_count": 11
        }
      ]
    },
    {
      "cell_type": "code",
      "metadata": {
        "id": "l6wSMw9Twq0x",
        "colab_type": "code",
        "outputId": "44835a98-d114-43fd-e232-df6fccafa1c6",
        "colab": {
          "base_uri": "https://localhost:8080/",
          "height": 1000
        }
      },
      "source": [
        "cosine_outliers = []\n",
        "words_not_in_model = 0\n",
        "for w in four_words_txt: \n",
        "  continueBool = False\n",
        "  try:\n",
        "    word0 = m_words[w[0]]\n",
        "    word1 = m_words[w[1]]\n",
        "    word2 = m_words[w[2]]\n",
        "    word3 = m_words[w[3]]\n",
        "\n",
        "    vectors = np.zeros((4, 50))\n",
        "    vectors[0,:] = model.W[word0].T\n",
        "    vectors[1,:] = model.W[word1].T\n",
        "    vectors[2,:] = model.W[word2].T\n",
        "    vectors[3,:] = model.W[word3].T\n",
        "  except: \n",
        "    continueBool = True\n",
        "    words_not_in_model +=1\n",
        "    cosine_outliers.append(str(words_not_in_model ))\n",
        "  if continueBool: \n",
        "       continue\n",
        "\n",
        "\n",
        "  CO = np.dot(vectors, vectors.T)\n",
        "  square_mag = np.diag(CO)\n",
        "  inv_square_mag = 1 / square_mag\n",
        "  inv_square_mag[np.isinf(inv_square_mag)] = 0\n",
        "  inv_mag = np.sqrt(inv_square_mag)\n",
        "  cosine = CO * inv_mag\n",
        "  cosine = cosine.T * inv_mag\n",
        "  indices = np.argsort(cosine.sum(axis=0))\n",
        "  outlier = w[indices[0]]\n",
        "  print(w,outlier)\n",
        "  cosine_outliers.append(outlier)\n",
        "    "
      ],
      "execution_count": 0,
      "outputs": [
        {
          "output_type": "stream",
          "text": [
            "['æble', 'pære', 'kirsebær', 'stol'] stol\n",
            "['stol', 'bord', 'reol', 'græs'] reol\n",
            "['græs', 'træ', 'blomst', 'bil'] bil\n",
            "['bil', 'cykel', 'tog', 'vind'] tog\n",
            "['vind', 'regn', 'solskin', 'mandag'] solskin\n",
            "['mandag', 'tirsdag', 'søndag', 'tømrer'] tømrer\n",
            "['barn', 'far', 'mormor', 'lampe'] lampe\n",
            "['lampe', 'stearinlys', 'lommelygte', 'jern'] lommelygte\n",
            "['jern', 'guld', 'magnesium', 'sjov'] sjov\n",
            "['sjov', 'dårlig', 'vanvittig', 'papir'] vanvittig\n",
            "['papir', 'ringbind', 'blyant', 'vagt'] vagt\n",
            "['vagt', 'politimand', 'fængselsbetjent', 'by'] by\n",
            "['by', 'landsby', 'købstad', 'småkage'] småkage\n",
            "['småkage', 'citronmåne', 'kringle', 'dør'] citronmåne\n",
            "['dør', 'væg', 'vindue', 'klaver'] klaver\n",
            "['klaver', 'trompet', 'blokfløjte', 'fandens'] fandens\n",
            "['fandens', 'fuck', 'sgu', 'vand'] vand\n",
            "['vand', 'jord', 'ild', 'hukommelse'] hukommelse\n",
            "['bold', 'fjerbold', 'puck', 'mave'] fjerbold\n",
            "['mave', 'bryst', 'ryg', 'hat'] hat\n",
            "['hat', 'kasket', 'hue', 'ishockey'] ishockey\n",
            "['ishockey', 'skiløb', 'skihop', 'fodbold'] fodbold\n",
            "['gå', 'løbe', 'kravle', 'sidde'] kravle\n",
            "['rød', 'blå', 'violet', 'himmel'] himmel\n",
            "['humor', 'komedie', 'comedy', 'beskidt'] beskidt\n",
            "['vaskemaskine', 'strygejern', 'tørretumbler', 'beskidt'] tørretumbler\n",
            "['øl', 'vin', 'spiritus', 'køkken'] køkken\n",
            "['køkken', 'baderum', 'stue', 'øl'] baderum\n",
            "['wing', 'back', 'forward', 'vinge'] vinge\n",
            "['vinge', 'landingsstel', 'propel', 'kartoffel'] propel\n",
            "['kartoffel', 'frikadelle', 'salat', 'pejs'] frikadelle\n",
            "['eg', 'lærketræ', 'æbletræ', 'slange'] slange\n",
            "['hugorm', 'pyton', 'snog', 'hund'] hund\n",
            "['ko', 'so', 'hest', 'krappe'] krappe\n",
            "['ugle', 'krage', 'måge', 'hund'] ugle\n",
            "['hund', 'ræv', 'ulv', 'krappe'] krappe\n",
            "['spilletid', 'halvleg', 'dommer', 'ræv'] ræv\n",
            "['tv', 'radio', 'telefon', 'klud'] klud\n",
            "['ondt', 'forfærdeligt', 'skrækkeligt', 'herligt'] skrækkeligt\n",
            "['hoppende', 'dansende', 'løbende', 'døende'] hoppende\n",
            "['saver', 'hamrer', 'skruer', 'aer'] saver\n",
            "['går', 'spadserer', 'vandrer', 'siger'] spadserer\n",
            "['mener', 'tror', 'ved', 'går'] ved\n",
            "['fire', 'fem', 'sytten', 'aldrig'] aldrig\n",
            "['mega', 'kæmpe', 'enorm', 'smule'] mega\n",
            "['kufferter', 'tasker', 'bæreposer', 'styrelser'] styrelser\n",
            "['landstræner', 'håndboldekspert', 'mål', 'rum'] rum\n",
            "['trup', 'gruppe', 'hold', 'sti'] sti\n",
            "['grafik', 'figur', 'plot', 'lån'] lån\n",
            "['januar', 'maj', 'juni', 'ur'] ur\n",
            "['angiveligt', 'muligvis', 'sandsynligvis', 'nutidigt'] nutidigt\n",
            "['oplysninger', 'data', 'informationer', 'fjerner'] data\n",
            "['instrumentbrættet', 'motorer', 'cockpit', 'sagen'] instrumentbrættet\n",
            "['anmeldelse', 'politi', 'forbrydelse', 'kaffe'] kaffe\n",
            "['instrueret', 'organiseret', 'ledet', 'skuffet'] skuffet\n",
            "['billede', 'foto', 'tegning', 'skål'] skål\n",
            "['kapitel', 'paragraf', 'sektion', 'park'] park\n",
            "['virksomhed', 'firma', 'selskab', 'sovs'] sovs\n",
            "['diplom', 'udmærkelse', 'pris', 'øremærke'] øremærke\n",
            "['bange', 'urolig', 'nervøs', 'ordentlig'] ordentlig\n",
            "['norsk', 'engelsk', 'spansk', 'falsk'] falsk\n",
            "['mus', 'tastatur', 'skærm', 'bræt'] bræt\n",
            "['og', 'samt', 'endvidere', 'sin'] sin\n",
            "['hans', 'sit', 'vores', 'vises'] vores\n",
            "['frokost', 'morgenmad', 'brunch', 'måne'] brunch\n",
            "['mænd', 'personer', 'individer', 'gange'] individer\n",
            "['kidnappe', 'røve', 'stjæle', 'køre'] køre\n",
            "['råbte', 'skreg', 'larmede', 'vuggede'] larmede\n",
            "['kontorist', 'embedsmand', 'bureaukrat', 'spisebord'] spisebord\n",
            "['vegetation', 'krat', 'bed', 'skur'] skur\n",
            "['cyklist', 'bilist', 'chauffør', 'ekspedient'] cyklist\n",
            "['bibliotek', 'bog', 'låner', 'flag'] låner\n",
            "['musik', 'node', 'rytme', 'leder'] node\n",
            "['rapport', 'sagsakt', 'artikel', 'spand'] spand\n",
            "['forhører', 'spørger', 'anmoder', 'banker'] forhører\n",
            "['fremtidige', 'fortidige', 'nutidige', 'havdige'] havdige\n",
            "['kanal', 'flod', 'bæk', 'spejl'] spejl\n",
            "['kanal', 'program', 'udsendelse', 'vask'] vask\n"
          ],
          "name": "stdout"
        }
      ]
    },
    {
      "cell_type": "code",
      "metadata": {
        "id": "XA7cKNOlyVyb",
        "colab_type": "code",
        "outputId": "77d6e1ec-0068-4acd-894b-0e1fd7717cd6",
        "colab": {
          "base_uri": "https://localhost:8080/",
          "height": 35
        }
      },
      "source": [
        "sum_cosine = 0\n",
        "for i in range(100):\n",
        "    if four_words_txt[i][3] == cosine_outliers[i]:\n",
        "        sum_cosine += 1\n",
        "    \n",
        "print('Outlier detection using cosine', sum_cosine/len(four_words_txt))"
      ],
      "execution_count": 0,
      "outputs": [
        {
          "output_type": "stream",
          "text": [
            "Outlier detection using cosine 0.49\n"
          ],
          "name": "stdout"
        }
      ]
    },
    {
      "cell_type": "code",
      "metadata": {
        "id": "06LH0Or8xTIm",
        "colab_type": "code",
        "outputId": "85c07e69-77f4-4b4b-98c3-9f7ad8bb408c",
        "colab": {
          "base_uri": "https://localhost:8080/",
          "height": 52
        }
      },
      "source": [
        "print(len(four_words_txt)) \n",
        "print(len(cosine_outliers))"
      ],
      "execution_count": 0,
      "outputs": [
        {
          "output_type": "stream",
          "text": [
            "100\n",
            "100\n"
          ],
          "name": "stdout"
        }
      ]
    },
    {
      "cell_type": "code",
      "metadata": {
        "id": "-wBldurMFQrn",
        "colab_type": "code",
        "outputId": "ff754f3f-9b92-4c81-aded-a9e3357d0e78",
        "colab": {
          "resources": {
            "http://localhost:8080/nbextensions/google.colab/files.js": {
              "data": "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",
              "ok": true,
              "headers": [
                [
                  "content-type",
                  "application/javascript"
                ]
              ],
              "status": 200,
              "status_text": ""
            }
          },
          "base_uri": "https://localhost:8080/",
          "height": 75
        }
      },
      "source": [
        "from google.colab import files\n",
        "uploaded = files.upload()"
      ],
      "execution_count": 0,
      "outputs": [
        {
          "output_type": "display_data",
          "data": {
            "text/html": [
              "\n",
              "     <input type=\"file\" id=\"files-8e5a2ce4-6390-4428-95bb-f202dada9725\" name=\"files[]\" multiple disabled />\n",
              "     <output id=\"result-8e5a2ce4-6390-4428-95bb-f202dada9725\">\n",
              "      Upload widget is only available when the cell has been executed in the\n",
              "      current browser session. Please rerun this cell to enable.\n",
              "      </output>\n",
              "      <script src=\"/nbextensions/google.colab/files.js\"></script> "
            ],
            "text/plain": [
              "<IPython.core.display.HTML object>"
            ]
          },
          "metadata": {
            "tags": []
          }
        },
        {
          "output_type": "stream",
          "text": [
            "Saving ProperNounsDanskNy.csv to ProperNounsDanskNy.csv\n"
          ],
          "name": "stdout"
        }
      ]
    },
    {
      "cell_type": "code",
      "metadata": {
        "id": "JOVhGePjFZwS",
        "colab_type": "code",
        "colab": {}
      },
      "source": [
        "import pandas as pd\n",
        "# This is the propernouns\n",
        "propernouns_data = pd.read_csv(\"ProperNounsDanskNy.csv\",delimiter = \",\", encoding = \"utf-8\")\n",
        "\n",
        "propernouns = []\n",
        "for i in range(1, len(propernouns_data)):\n",
        "    propernouns.append([str(propernouns_data['Word'][i]),str(propernouns_data['Definition'][i])])"
      ],
      "execution_count": 0,
      "outputs": []
    },
    {
      "cell_type": "code",
      "metadata": {
        "id": "O6rhYP1mJPSd",
        "colab_type": "code",
        "outputId": "980804ed-bbd1-45d2-a177-c097df51bf1a",
        "colab": {
          "base_uri": "https://localhost:8080/",
          "height": 817
        }
      },
      "source": [
        "propernouns"
      ],
      "execution_count": 0,
      "outputs": [
        {
          "output_type": "execute_result",
          "data": {
            "text/plain": [
              "[['Niels Bohr', 'dansk fysiker'],\n",
              " ['H.C. Ørsted', 'dansk udmærkelse'],\n",
              " ['Ole Rømer', 'dansk astronom'],\n",
              " ['Lars Løkke Rasmussen', 'dansk politiker'],\n",
              " ['Lars Løkke Rasmussen', 'dansk politiker'],\n",
              " ['Poul Nyrup Rasmussen', 'dansk politiker'],\n",
              " ['Anders Fogh Rasmussen',\n",
              "  'generalsekretær i NATO. Tidligere statsminister i Danmark. Tidligere formand for Venstre'],\n",
              " ['Peter Schmeichel', 'dansk fodboldspiller'],\n",
              " ['Peter Schmeichel', 'dansk fodboldspiller'],\n",
              " ['Kasper Schmeichel', 'dansk fodboldmålmand'],\n",
              " ['Brian Laudrup', 'dansk fodboldspiller'],\n",
              " ['Caroline Wozniacki', 'dansk tennisspiller'],\n",
              " ['Caroline Wozniacki', 'dansk tennisspiller'],\n",
              " ['Steffi Graf', 'tysk tennisspiller'],\n",
              " ['Serena Williams', 'amerikansk tennisspiller'],\n",
              " ['Monaco', 'europæisk mikrostat ved Middelhavet'],\n",
              " ['Monaco', 'europæisk mikrostat ved Middelhavet'],\n",
              " ['Paris', 'Frankrigs hovedstad'],\n",
              " ['Milano', 'major city in Italyengelsk'],\n",
              " ['Pia', 'kvindenavn'],\n",
              " ['Pia', 'kvindenavn'],\n",
              " ['Lone', 'pigenavn'],\n",
              " ['Marianne', 'pigenavn'],\n",
              " ['Ole', 'drengenavn'],\n",
              " ['Finland', 'land i Nordeuropa'],\n",
              " ['Sverige', 'land i Nordeuropa'],\n",
              " ['Norge', 'land i Nordeuropa'],\n",
              " ['Kina,\"Folkerepublikken, et land i Asien\"', 'nan'],\n",
              " ['Kina,\"Folkerepublikken, et land i Asien\"', 'nan'],\n",
              " ['Japan', 'østasiatisk østat'],\n",
              " ['Sydkorea', 'østasiatisk republik'],\n",
              " ['Irland', 'vesteuropæisk land'],\n",
              " ['Viborg', 'gammel jysk by'],\n",
              " ['Randers', 'by i Østjylland'],\n",
              " ['Hobro', 'købstad i bunden af Mariager Fjord'],\n",
              " ['Kattegat', 'sea area between Denmark and Swedenengelsk'],\n",
              " ['Kattegat', 'sea area between Denmark and Swedenengelsk'],\n",
              " ['Øresund', 'sund mellem Danmark og Sverige'],\n",
              " ['Alssund', 'farvand mellem Als og Sundeved'],\n",
              " ['Sjælland', 'dansk ø'],\n",
              " ['Nielsen', 'efternavn'],\n",
              " ['Jensen', 'efternavn'],\n",
              " ['Olsen', 'efternavn'],\n",
              " ['LX', 'Wikimedia-flertydigside']]"
            ]
          },
          "metadata": {
            "tags": []
          },
          "execution_count": 17
        }
      ]
    },
    {
      "cell_type": "code",
      "metadata": {
        "id": "UJyujhQMO_UC",
        "colab_type": "code",
        "outputId": "2c3dd426-128e-4a04-b8ae-e15c60908715",
        "colab": {
          "base_uri": "https://localhost:8080/",
          "height": 169
        }
      },
      "source": [
        ""
      ],
      "execution_count": 0,
      "outputs": [
        {
          "output_type": "error",
          "ename": "TypeError",
          "evalue": "ignored",
          "traceback": [
            "\u001b[0;31m---------------------------------------------------------------------------\u001b[0m",
            "\u001b[0;31mTypeError\u001b[0m                                 Traceback (most recent call last)",
            "\u001b[0;32m<ipython-input-76-840dd7d3f93b>\u001b[0m in \u001b[0;36m<module>\u001b[0;34m()\u001b[0m\n\u001b[0;32m----> 1\u001b[0;31m \u001b[0mpropernouns\u001b[0m\u001b[0;34m[\u001b[0m\u001b[0;34m'LX'\u001b[0m\u001b[0;34m]\u001b[0m\u001b[0;34m[\u001b[0m\u001b[0;36m1\u001b[0m\u001b[0;34m]\u001b[0m\u001b[0;34m\u001b[0m\u001b[0;34m\u001b[0m\u001b[0m\n\u001b[0m",
            "\u001b[0;31mTypeError\u001b[0m: list indices must be integers or slices, not str"
          ]
        }
      ]
    },
    {
      "cell_type": "code",
      "metadata": {
        "id": "z8nddZrsFQ2y",
        "colab_type": "code",
        "outputId": "0046339c-2129-4f6d-a4f0-47d5da286a05",
        "colab": {
          "base_uri": "https://localhost:8080/",
          "height": 35
        }
      },
      "source": [
        "cosine_outliers = []\n",
        "words_not_in_model = 0\n",
        "for word_list in four_words_txt: \n",
        "  continueBool = False\n",
        "  try:\n",
        "    vectors = np.zeros((4, 50))\n",
        "    if word_list[0][0].isupper():\n",
        "      for i in range(len(propernouns)): \n",
        "        if propernouns[i][0] == word_list[0]: \n",
        "          definition = propernouns[i][1].split()\n",
        "          for p in definition: \n",
        "            word0 = m_words[p]\n",
        "            vectors[0,:] += model.W[word0].T\n",
        "      vectors[0,:] = vectors[0,:]/len(definition)\n",
        "    else:  \n",
        "      word0 = m_words[word_list[0]]\n",
        "      vectors[0,:] = model.W[word0].T\n",
        "\n",
        "\n",
        "    if word_list[1][0].isupper():\n",
        "      for i in range(len(propernouns)): \n",
        "        if propernouns[i][0] == word_list[1]: \n",
        "          definition = propernouns[i][1].split()\n",
        "          for p in definition: \n",
        "            word1 = m_words[p]\n",
        "            vectors[1,:] += model.W[word1].T\n",
        "      vectors[1,:] = vectors[1,:]/len(definition)\n",
        "    else:  \n",
        "      word1 = m_words[word_list[1]]\n",
        "      vectors[1,:] = model.W[word1].T\n",
        "\n",
        "    if word_list[2][0].isupper():\n",
        "      for i in range(len(propernouns)): \n",
        "        if propernouns[i][0] == word_list[2]: \n",
        "          definition = propernouns[i][1].split()\n",
        "          for p in definition: \n",
        "            word2 = m_words[p]\n",
        "            vectors[2,:] += model.W[word2].T\n",
        "      vectors[2,:] = vectors[2,:]/len(definition)\n",
        "    else:  \n",
        "      word2 = m_words[word_list[2]]\n",
        "      vectors[2,:] = model.W[word2].T\n",
        "\n",
        "    if word_list[3][0].isupper():\n",
        "      for i in range(len(propernouns)): \n",
        "        if propernouns[i][0] == word_list[3]: \n",
        "          definition = propernouns[i][1].split()\n",
        "          for p in definition: \n",
        "            word3 = m_words[p]\n",
        "            vectors[3,:] += model.W[word3].T\n",
        "      vectors[3,:] = vectors[3,:]/len(definition)\n",
        "    else:  \n",
        "      word3 = m_words[word_list[3]]\n",
        "      vectors[3,:] = model.W[word3].T\n",
        "  except: \n",
        "    continueBool = True\n",
        "    words_not_in_model +=1\n",
        "    cosine_outliers.append(str(words_not_in_model ))\n",
        "  if continueBool: \n",
        "       continue\n",
        "\n",
        "\n",
        "  CO = np.dot(vectors, vectors.T)\n",
        "  square_mag = np.diag(CO)\n",
        "  inv_square_mag = 1 / square_mag\n",
        "  inv_square_mag[np.isinf(inv_square_mag)] = 0\n",
        "  inv_mag = np.sqrt(inv_square_mag)\n",
        "  cosine = CO * inv_mag\n",
        "  cosine = cosine.T * inv_mag\n",
        "  indices = np.argsort(cosine.sum(axis=0))\n",
        "  outlier = word_list[indices[0]]\n",
        "  #print(word_list,outlier)\n",
        "  cosine_outliers.append(outlier)"
      ],
      "execution_count": 0,
      "outputs": [
        {
          "output_type": "stream",
          "text": [
            "/usr/local/lib/python3.6/dist-packages/ipykernel_launcher.py:65: RuntimeWarning: divide by zero encountered in true_divide\n"
          ],
          "name": "stderr"
        }
      ]
    },
    {
      "cell_type": "code",
      "metadata": {
        "id": "IzQhv8ZzTkl2",
        "colab_type": "code",
        "outputId": "10f3fb27-464c-4583-a61e-1a57715cb6ba",
        "colab": {
          "base_uri": "https://localhost:8080/",
          "height": 35
        }
      },
      "source": [
        "sum_cosine = 0\n",
        "for i in range(100):\n",
        "    if four_words_txt[i][3] == cosine_outliers[i]:\n",
        "        sum_cosine += 1\n",
        "    \n",
        "print('Outlier detection using cosine', sum_cosine/len(four_words_txt))"
      ],
      "execution_count": 0,
      "outputs": [
        {
          "output_type": "stream",
          "text": [
            "Outlier detection using cosine 0.51\n"
          ],
          "name": "stdout"
        }
      ]
    },
    {
      "cell_type": "code",
      "metadata": {
        "id": "qzl_xA4ooelx",
        "colab_type": "code",
        "outputId": "323b9c06-d6e2-4dbe-982d-944ec8bfb5f8",
        "colab": {
          "base_uri": "https://localhost:8080/",
          "height": 35
        }
      },
      "source": [
        "cosine_outliers = []\n",
        "words_not_in_model = 0\n",
        "for word_list in four_words_txt: \n",
        "  continueBool = False\n",
        "  try:\n",
        "    vectors = np.zeros((4, 50))\n",
        "    if word_list[0][0].isupper():\n",
        "      for i in range(len(propernouns)): \n",
        "        if propernouns[i][0] == word_list[0]: \n",
        "          definition = propernouns[i][1].split()\n",
        "          word0 = m_words[definition[0]]\n",
        "          vectors[0,:] += model.W[word0].T\n",
        "      vectors[0,:] = vectors[0,:]/len(definition)\n",
        "    else:  \n",
        "      word0 = m_words[word_list[0]]\n",
        "      vectors[0,:] = model.W[word0].T\n",
        "\n",
        "\n",
        "    if word_list[1][0].isupper():\n",
        "      for i in range(len(propernouns)): \n",
        "        if propernouns[i][0] == word_list[1]: \n",
        "          definition = propernouns[i][1].split()\n",
        "          word1 = m_words[definition[0]]\n",
        "          vectors[1,:] += model.W[word1].T\n",
        "      vectors[1,:] = vectors[1,:]/len(definition)\n",
        "    else:  \n",
        "      word1 = m_words[word_list[1]]\n",
        "      vectors[1,:] = model.W[word1].T\n",
        "\n",
        "    if word_list[2][0].isupper():\n",
        "      for i in range(len(propernouns)): \n",
        "        if propernouns[i][0] == word_list[2]: \n",
        "          definition = propernouns[i][1].split()\n",
        "          word2 = m_words[definition[0]]\n",
        "          vectors[2,:] += model.W[word2].T\n",
        "      vectors[2,:] = vectors[2,:]/len(definition)\n",
        "    else:  \n",
        "      word2 = m_words[word_list[2]]\n",
        "      vectors[2,:] = model.W[word2].T\n",
        "\n",
        "    if word_list[3][0].isupper():\n",
        "      for i in range(len(propernouns)): \n",
        "        if propernouns[i][0] == word_list[3]: \n",
        "          definition = propernouns[i][1].split()\n",
        "          word3 = m_words[definition[0]]\n",
        "          vectors[3,:] += model.W[word3].T\n",
        "      vectors[3,:] = vectors[3,:]/len(definition)\n",
        "    else:  \n",
        "      word3 = m_words[word_list[3]]\n",
        "      vectors[3,:] = model.W[word3].T\n",
        "  except: \n",
        "    continueBool = True\n",
        "    words_not_in_model +=1\n",
        "    cosine_outliers.append(str(words_not_in_model ))\n",
        "  if continueBool: \n",
        "       continue\n",
        "\n",
        "\n",
        "  CO = np.dot(vectors, vectors.T)\n",
        "  square_mag = np.diag(CO)\n",
        "  inv_square_mag = 1 / square_mag\n",
        "  inv_square_mag[np.isinf(inv_square_mag)] = 0\n",
        "  inv_mag = np.sqrt(inv_square_mag)\n",
        "  cosine = CO * inv_mag\n",
        "  cosine = cosine.T * inv_mag\n",
        "  indices = np.argsort(cosine.sum(axis=0))\n",
        "  outlier = word_list[indices[0]]\n",
        "  #print(word_list,outlier)\n",
        "  cosine_outliers.append(outlier)"
      ],
      "execution_count": 0,
      "outputs": [
        {
          "output_type": "stream",
          "text": [
            "/usr/local/lib/python3.6/dist-packages/ipykernel_launcher.py:61: RuntimeWarning: divide by zero encountered in true_divide\n"
          ],
          "name": "stderr"
        }
      ]
    },
    {
      "cell_type": "code",
      "metadata": {
        "id": "r430gFfGoezu",
        "colab_type": "code",
        "outputId": "0c1119aa-6b2d-422e-f8e9-276b3a3b57b7",
        "colab": {
          "base_uri": "https://localhost:8080/",
          "height": 35
        }
      },
      "source": [
        "sum_cosine = 0\n",
        "for i in range(100):\n",
        "    if four_words_txt[i][3] == cosine_outliers[i]:\n",
        "        sum_cosine += 1\n",
        "    \n",
        "print('Outlier detection using cosine', sum_cosine/len(four_words_txt))"
      ],
      "execution_count": 0,
      "outputs": [
        {
          "output_type": "stream",
          "text": [
            "Outlier detection using cosine 0.55\n"
          ],
          "name": "stdout"
        }
      ]
    },
    {
      "cell_type": "code",
      "metadata": {
        "id": "XtR6gm7XuiO4",
        "colab_type": "code",
        "outputId": "0cb68b91-014b-4f9e-bb89-3f772ad3362b",
        "colab": {
          "base_uri": "https://localhost:8080/",
          "height": 106
        }
      },
      "source": [
        "cosine_outliers = []\n",
        "words_not_in_model = 0\n",
        "for word_list in four_words_txt: \n",
        "  continueBool = False\n",
        "  try:\n",
        "    vectors = np.zeros((4, 50))\n",
        "    if word_list[0][0].isupper():\n",
        "      for i in range(len(propernouns)): \n",
        "        if propernouns[i][0] == word_list[0]: \n",
        "          definition = propernouns[i][1].split()\n",
        "          word0 = m_words[definition[0]]\n",
        "          vectors[0,:] += model.W[word0].T\n",
        "      vectors[0,:] = vectors[0,:]/len(definition)\n",
        "    else:  \n",
        "      word0 = m_words[word_list[0]]\n",
        "      vectors[0,:] = model.W[word0].T\n",
        "  except: \n",
        "    vectors[0,:] = np.ones((1,50))*100000\n",
        "  \n",
        "  try: \n",
        "    if word_list[1][0].isupper():\n",
        "      for i in range(len(propernouns)): \n",
        "        if propernouns[i][0] == word_list[1]: \n",
        "          definition = propernouns[i][1].split()\n",
        "          word1 = m_words[definition[0]]\n",
        "          vectors[1,:] += model.W[word1].T\n",
        "      vectors[1,:] = vectors[1,:]/len(definition)\n",
        "    else:  \n",
        "      word1 = m_words[word_list[1]]\n",
        "      vectors[1,:] = model.W[word1].T\n",
        "  except: \n",
        "      vectors[1,:] = np.ones((1,50))*100000\n",
        "\n",
        "  try: \n",
        "    if word_list[2][0].isupper():\n",
        "      for i in range(len(propernouns)): \n",
        "        if propernouns[i][0] == word_list[2]: \n",
        "          definition = propernouns[i][1].split()\n",
        "          word2 = m_words[definition[0]]\n",
        "          vectors[2,:] += model.W[word2].T\n",
        "      vectors[2,:] = vectors[2,:]/len(definition)\n",
        "    else:  \n",
        "      word2 = m_words[word_list[2]]\n",
        "      vectors[2,:] = model.W[word2].T\n",
        "  except: \n",
        "    vectors[2,:] = np.ones((1,50))*100000\n",
        "\n",
        "  try: \n",
        "    if word_list[3][0].isupper():\n",
        "      for i in range(len(propernouns)): \n",
        "        if propernouns[i][0] == word_list[3]: \n",
        "          definition = propernouns[i][1].split()\n",
        "          word3 = m_words[definition[0]]\n",
        "          vectors[3,:] += model.W[word3].T\n",
        "      vectors[3,:] = vectors[3,:]/len(definition)\n",
        "    else:  \n",
        "      word3 = m_words[word_list[3]]\n",
        "      vectors[3,:] = model.W[word3].T\n",
        "  except: \n",
        "    vectors[3,:] = np.ones((1,50))*100000\n",
        "    print('except 3')\n",
        " \n",
        "\n",
        "\n",
        "  CO = np.dot(vectors, vectors.T)\n",
        "  square_mag = np.diag(CO)\n",
        "  inv_square_mag = 1 / square_mag\n",
        "  inv_square_mag[np.isinf(inv_square_mag)] = 0\n",
        "  inv_mag = np.sqrt(inv_square_mag)\n",
        "  cosine = CO * inv_mag\n",
        "  cosine = cosine.T * inv_mag\n",
        "  indices = np.argsort(cosine.sum(axis=0))\n",
        "  outlier = word_list[indices[0]]\n",
        "  #print(word_list,outlier)\n",
        "  cosine_outliers.append(outlier)"
      ],
      "execution_count": 0,
      "outputs": [
        {
          "output_type": "stream",
          "text": [
            "except 3\n",
            "except 3\n",
            "except 3\n",
            "except 3\n"
          ],
          "name": "stdout"
        },
        {
          "output_type": "stream",
          "text": [
            "/usr/local/lib/python3.6/dist-packages/ipykernel_launcher.py:67: RuntimeWarning: divide by zero encountered in true_divide\n"
          ],
          "name": "stderr"
        }
      ]
    },
    {
      "cell_type": "code",
      "metadata": {
        "id": "fUu0KjZjul0t",
        "colab_type": "code",
        "outputId": "003f0b42-8b4a-421d-dc3f-58daa08532e2",
        "colab": {
          "base_uri": "https://localhost:8080/",
          "height": 35
        }
      },
      "source": [
        "sum_cosine = 0\n",
        "for i in range(100):\n",
        "    if four_words_txt[i][3] == cosine_outliers[i]:\n",
        "        sum_cosine += 1\n",
        "    \n",
        "print('Outlier detection using cosine', sum_cosine/100)"
      ],
      "execution_count": 0,
      "outputs": [
        {
          "output_type": "stream",
          "text": [
            "Outlier detection using cosine 0.55\n"
          ],
          "name": "stdout"
        }
      ]
    }
  ]
}